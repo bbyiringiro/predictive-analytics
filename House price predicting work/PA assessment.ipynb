{
 "cells": [
  {
   "cell_type": "code",
   "execution_count": 1,
   "id": "b43054b2",
   "metadata": {},
   "outputs": [],
   "source": [
    "import pandas as pd\n",
    "import numpy as np\n",
    "import matplotlib.pyplot as plt\n",
    "import seaborn as sns\n",
    "%matplotlib inline\n",
    "\n",
    "sns.set()"
   ]
  },
  {
   "cell_type": "code",
   "execution_count": null,
   "id": "6c03324f",
   "metadata": {},
   "outputs": [],
   "source": []
  },
  {
   "cell_type": "code",
   "execution_count": null,
   "id": "bdcc7215",
   "metadata": {},
   "outputs": [],
   "source": []
  },
  {
   "cell_type": "code",
   "execution_count": 2,
   "id": "af22709c",
   "metadata": {},
   "outputs": [],
   "source": [
    "import statsmodels.api as sm"
   ]
  },
  {
   "cell_type": "code",
   "execution_count": 3,
   "id": "2b09f6ce",
   "metadata": {},
   "outputs": [
    {
     "name": "stderr",
     "output_type": "stream",
     "text": [
      "/tmp/ipykernel_1649988/2644363921.py:6: DeprecationWarning: Importing display from IPython.core.display is deprecated since IPython 7.14, please import from IPython display\n",
      "  from IPython.core.display import display, HTML\n"
     ]
    }
   ],
   "source": [
    "\n",
    "import matplotlib.pyplot as plt\n",
    "import seaborn as sns\n",
    "from sklearn.metrics import mean_squared_error\n",
    "from sklearn.model_selection import cross_val_score\n",
    "from collections import Counter\n",
    "from IPython.core.display import display, HTML\n",
    "sns.set_style('darkgrid')"
   ]
  },
  {
   "cell_type": "code",
   "execution_count": 4,
   "id": "72c1d0da",
   "metadata": {},
   "outputs": [],
   "source": [
    "import io\n",
    "import requests\n",
    "\n",
    "def read_csv_from_shareable_link(url):\n",
    "  response = requests.get(url, stream=True)\n",
    "  if response.status_code == 200:\n",
    "    csv_file = io.StringIO(response.content.decode('utf-8'))\n",
    "    return pd.read_csv(csv_file)\n",
    "  else:\n",
    "    print('Error reading CSV file from shareable link')"
   ]
  },
  {
   "cell_type": "code",
   "execution_count": 5,
   "id": "22f7ffa7",
   "metadata": {},
   "outputs": [],
   "source": [
    "df = read_csv_from_shareable_link(\"https://drive.google.com/uc?export=download&id=1OPtTgTOIbJDITkJ-MzlhX1pGZ8KYUD-k\")"
   ]
  },
  {
   "cell_type": "code",
   "execution_count": 6,
   "id": "9b1a1bad",
   "metadata": {},
   "outputs": [
    {
     "data": {
      "text/html": [
       "<div>\n",
       "<style scoped>\n",
       "    .dataframe tbody tr th:only-of-type {\n",
       "        vertical-align: middle;\n",
       "    }\n",
       "\n",
       "    .dataframe tbody tr th {\n",
       "        vertical-align: top;\n",
       "    }\n",
       "\n",
       "    .dataframe thead th {\n",
       "        text-align: right;\n",
       "    }\n",
       "</style>\n",
       "<table border=\"1\" class=\"dataframe\">\n",
       "  <thead>\n",
       "    <tr style=\"text-align: right;\">\n",
       "      <th></th>\n",
       "      <th>OBS.</th>\n",
       "      <th>CMEDV</th>\n",
       "      <th>CRIM</th>\n",
       "      <th>ZN</th>\n",
       "      <th>INDUS</th>\n",
       "      <th>CHAS</th>\n",
       "      <th>NOX</th>\n",
       "      <th>RM</th>\n",
       "      <th>AGE</th>\n",
       "      <th>DIS</th>\n",
       "      <th>RAD</th>\n",
       "      <th>TAX</th>\n",
       "      <th>PTRATIO</th>\n",
       "      <th>PARK</th>\n",
       "      <th>POOL</th>\n",
       "      <th>CINEMA</th>\n",
       "    </tr>\n",
       "  </thead>\n",
       "  <tbody>\n",
       "    <tr>\n",
       "      <th>0</th>\n",
       "      <td>1</td>\n",
       "      <td>715</td>\n",
       "      <td>0.26</td>\n",
       "      <td>18.0</td>\n",
       "      <td>2.31</td>\n",
       "      <td>0</td>\n",
       "      <td>1.97</td>\n",
       "      <td>6.58</td>\n",
       "      <td>6.2</td>\n",
       "      <td>4.10</td>\n",
       "      <td>1</td>\n",
       "      <td>296.0</td>\n",
       "      <td>15.3</td>\n",
       "      <td>0</td>\n",
       "      <td>0</td>\n",
       "      <td>0</td>\n",
       "    </tr>\n",
       "    <tr>\n",
       "      <th>1</th>\n",
       "      <td>2</td>\n",
       "      <td>691</td>\n",
       "      <td>0.28</td>\n",
       "      <td>0.0</td>\n",
       "      <td>7.07</td>\n",
       "      <td>0</td>\n",
       "      <td>3.64</td>\n",
       "      <td>6.42</td>\n",
       "      <td>62.0</td>\n",
       "      <td>2.19</td>\n",
       "      <td>2</td>\n",
       "      <td>242.1</td>\n",
       "      <td>17.8</td>\n",
       "      <td>1</td>\n",
       "      <td>1</td>\n",
       "      <td>1</td>\n",
       "    </tr>\n",
       "    <tr>\n",
       "      <th>2</th>\n",
       "      <td>3</td>\n",
       "      <td>822</td>\n",
       "      <td>0.30</td>\n",
       "      <td>0.0</td>\n",
       "      <td>7.07</td>\n",
       "      <td>0</td>\n",
       "      <td>1.67</td>\n",
       "      <td>7.19</td>\n",
       "      <td>84.6</td>\n",
       "      <td>3.65</td>\n",
       "      <td>2</td>\n",
       "      <td>242.0</td>\n",
       "      <td>17.8</td>\n",
       "      <td>1</td>\n",
       "      <td>1</td>\n",
       "      <td>0</td>\n",
       "    </tr>\n",
       "    <tr>\n",
       "      <th>3</th>\n",
       "      <td>4</td>\n",
       "      <td>809</td>\n",
       "      <td>0.21</td>\n",
       "      <td>0.0</td>\n",
       "      <td>2.18</td>\n",
       "      <td>0</td>\n",
       "      <td>1.40</td>\n",
       "      <td>7.00</td>\n",
       "      <td>47.2</td>\n",
       "      <td>1.13</td>\n",
       "      <td>3</td>\n",
       "      <td>222.0</td>\n",
       "      <td>18.7</td>\n",
       "      <td>0</td>\n",
       "      <td>0</td>\n",
       "      <td>1</td>\n",
       "    </tr>\n",
       "    <tr>\n",
       "      <th>4</th>\n",
       "      <td>5</td>\n",
       "      <td>837</td>\n",
       "      <td>0.26</td>\n",
       "      <td>0.0</td>\n",
       "      <td>2.18</td>\n",
       "      <td>0</td>\n",
       "      <td>0.37</td>\n",
       "      <td>7.15</td>\n",
       "      <td>89.8</td>\n",
       "      <td>3.50</td>\n",
       "      <td>3</td>\n",
       "      <td>222.0</td>\n",
       "      <td>18.7</td>\n",
       "      <td>1</td>\n",
       "      <td>0</td>\n",
       "      <td>1</td>\n",
       "    </tr>\n",
       "  </tbody>\n",
       "</table>\n",
       "</div>"
      ],
      "text/plain": [
       "   OBS.  CMEDV  CRIM    ZN  INDUS  CHAS   NOX    RM   AGE   DIS  RAD    TAX  \\\n",
       "0     1    715  0.26  18.0   2.31     0  1.97  6.58   6.2  4.10    1  296.0   \n",
       "1     2    691  0.28   0.0   7.07     0  3.64  6.42  62.0  2.19    2  242.1   \n",
       "2     3    822  0.30   0.0   7.07     0  1.67  7.19  84.6  3.65    2  242.0   \n",
       "3     4    809  0.21   0.0   2.18     0  1.40  7.00  47.2  1.13    3  222.0   \n",
       "4     5    837  0.26   0.0   2.18     0  0.37  7.15  89.8  3.50    3  222.0   \n",
       "\n",
       "   PTRATIO  PARK  POOL  CINEMA  \n",
       "0     15.3     0     0       0  \n",
       "1     17.8     1     1       1  \n",
       "2     17.8     1     1       0  \n",
       "3     18.7     0     0       1  \n",
       "4     18.7     1     0       1  "
      ]
     },
     "execution_count": 6,
     "metadata": {},
     "output_type": "execute_result"
    }
   ],
   "source": [
    "df.head()"
   ]
  },
  {
   "cell_type": "code",
   "execution_count": 7,
   "id": "795e09c6",
   "metadata": {},
   "outputs": [
    {
     "data": {
      "text/plain": [
       "Index(['OBS.', 'CMEDV', 'CRIM', 'ZN', 'INDUS', 'CHAS', 'NOX', 'RM', 'AGE',\n",
       "       'DIS', 'RAD', 'TAX', 'PTRATIO', 'PARK', 'POOL', 'CINEMA'],\n",
       "      dtype='object')"
      ]
     },
     "execution_count": 7,
     "metadata": {},
     "output_type": "execute_result"
    }
   ],
   "source": [
    "df.columns "
   ]
  },
  {
   "cell_type": "code",
   "execution_count": 8,
   "id": "94399a86",
   "metadata": {},
   "outputs": [],
   "source": [
    "dataset= df.drop(columns=['OBS.'])"
   ]
  },
  {
   "cell_type": "code",
   "execution_count": 9,
   "id": "3767b4c2",
   "metadata": {},
   "outputs": [
    {
     "data": {
      "text/plain": [
       "(1000, 15)"
      ]
     },
     "execution_count": 9,
     "metadata": {},
     "output_type": "execute_result"
    }
   ],
   "source": [
    "dataset.shape"
   ]
  },
  {
   "cell_type": "code",
   "execution_count": 10,
   "id": "676dcd16",
   "metadata": {},
   "outputs": [
    {
     "name": "stdout",
     "output_type": "stream",
     "text": [
      "<class 'pandas.core.frame.DataFrame'>\n",
      "RangeIndex: 1000 entries, 0 to 999\n",
      "Data columns (total 15 columns):\n",
      " #   Column   Non-Null Count  Dtype  \n",
      "---  ------   --------------  -----  \n",
      " 0   CMEDV    1000 non-null   int64  \n",
      " 1   CRIM     1000 non-null   float64\n",
      " 2   ZN       1000 non-null   float64\n",
      " 3   INDUS    1000 non-null   float64\n",
      " 4   CHAS     1000 non-null   int64  \n",
      " 5   NOX      1000 non-null   float64\n",
      " 6   RM       1000 non-null   float64\n",
      " 7   AGE      1000 non-null   float64\n",
      " 8   DIS      1000 non-null   float64\n",
      " 9   RAD      1000 non-null   int64  \n",
      " 10  TAX      1000 non-null   float64\n",
      " 11  PTRATIO  1000 non-null   float64\n",
      " 12  PARK     1000 non-null   int64  \n",
      " 13  POOL     1000 non-null   int64  \n",
      " 14  CINEMA   1000 non-null   int64  \n",
      "dtypes: float64(9), int64(6)\n",
      "memory usage: 117.3 KB\n"
     ]
    }
   ],
   "source": [
    "dataset.info()"
   ]
  },
  {
   "cell_type": "code",
   "execution_count": 11,
   "id": "f9f4fb01",
   "metadata": {},
   "outputs": [
    {
     "data": {
      "text/html": [
       "<div>\n",
       "<style scoped>\n",
       "    .dataframe tbody tr th:only-of-type {\n",
       "        vertical-align: middle;\n",
       "    }\n",
       "\n",
       "    .dataframe tbody tr th {\n",
       "        vertical-align: top;\n",
       "    }\n",
       "\n",
       "    .dataframe thead th {\n",
       "        text-align: right;\n",
       "    }\n",
       "</style>\n",
       "<table border=\"1\" class=\"dataframe\">\n",
       "  <thead>\n",
       "    <tr style=\"text-align: right;\">\n",
       "      <th></th>\n",
       "      <th>CMEDV</th>\n",
       "      <th>CRIM</th>\n",
       "      <th>ZN</th>\n",
       "      <th>INDUS</th>\n",
       "      <th>CHAS</th>\n",
       "      <th>NOX</th>\n",
       "      <th>RM</th>\n",
       "      <th>AGE</th>\n",
       "      <th>DIS</th>\n",
       "      <th>RAD</th>\n",
       "      <th>TAX</th>\n",
       "      <th>PTRATIO</th>\n",
       "      <th>PARK</th>\n",
       "      <th>POOL</th>\n",
       "      <th>CINEMA</th>\n",
       "    </tr>\n",
       "  </thead>\n",
       "  <tbody>\n",
       "    <tr>\n",
       "      <th>count</th>\n",
       "      <td>1000.000000</td>\n",
       "      <td>1000.000000</td>\n",
       "      <td>1000.000000</td>\n",
       "      <td>1000.000000</td>\n",
       "      <td>1000.000000</td>\n",
       "      <td>1000.000000</td>\n",
       "      <td>1000.000000</td>\n",
       "      <td>1000.000000</td>\n",
       "      <td>1000.000000</td>\n",
       "      <td>1000.000000</td>\n",
       "      <td>1000.000000</td>\n",
       "      <td>1000.000000</td>\n",
       "      <td>1000.000000</td>\n",
       "      <td>1000.000000</td>\n",
       "      <td>1000.00000</td>\n",
       "    </tr>\n",
       "    <tr>\n",
       "      <th>mean</th>\n",
       "      <td>706.236000</td>\n",
       "      <td>0.458690</td>\n",
       "      <td>10.998500</td>\n",
       "      <td>10.865210</td>\n",
       "      <td>0.074000</td>\n",
       "      <td>3.059140</td>\n",
       "      <td>6.266140</td>\n",
       "      <td>70.500300</td>\n",
       "      <td>3.612240</td>\n",
       "      <td>9.698000</td>\n",
       "      <td>392.565600</td>\n",
       "      <td>18.683200</td>\n",
       "      <td>0.399000</td>\n",
       "      <td>0.330000</td>\n",
       "      <td>0.50000</td>\n",
       "    </tr>\n",
       "    <tr>\n",
       "      <th>std</th>\n",
       "      <td>69.644157</td>\n",
       "      <td>0.146198</td>\n",
       "      <td>23.033275</td>\n",
       "      <td>6.086324</td>\n",
       "      <td>0.261902</td>\n",
       "      <td>1.394702</td>\n",
       "      <td>0.544119</td>\n",
       "      <td>23.776112</td>\n",
       "      <td>1.751456</td>\n",
       "      <td>8.839283</td>\n",
       "      <td>147.757376</td>\n",
       "      <td>1.795277</td>\n",
       "      <td>0.489938</td>\n",
       "      <td>0.470448</td>\n",
       "      <td>0.50025</td>\n",
       "    </tr>\n",
       "    <tr>\n",
       "      <th>min</th>\n",
       "      <td>525.000000</td>\n",
       "      <td>0.130000</td>\n",
       "      <td>0.000000</td>\n",
       "      <td>0.460000</td>\n",
       "      <td>0.000000</td>\n",
       "      <td>0.000000</td>\n",
       "      <td>3.560000</td>\n",
       "      <td>2.900000</td>\n",
       "      <td>1.130000</td>\n",
       "      <td>1.000000</td>\n",
       "      <td>187.000000</td>\n",
       "      <td>12.600000</td>\n",
       "      <td>0.000000</td>\n",
       "      <td>0.000000</td>\n",
       "      <td>0.00000</td>\n",
       "    </tr>\n",
       "    <tr>\n",
       "      <th>25%</th>\n",
       "      <td>671.000000</td>\n",
       "      <td>0.357500</td>\n",
       "      <td>0.000000</td>\n",
       "      <td>6.060000</td>\n",
       "      <td>0.000000</td>\n",
       "      <td>2.020000</td>\n",
       "      <td>5.960000</td>\n",
       "      <td>53.800000</td>\n",
       "      <td>2.320000</td>\n",
       "      <td>4.000000</td>\n",
       "      <td>296.000000</td>\n",
       "      <td>17.800000</td>\n",
       "      <td>0.000000</td>\n",
       "      <td>0.000000</td>\n",
       "      <td>0.00000</td>\n",
       "    </tr>\n",
       "    <tr>\n",
       "      <th>50%</th>\n",
       "      <td>704.000000</td>\n",
       "      <td>0.440000</td>\n",
       "      <td>0.000000</td>\n",
       "      <td>8.560000</td>\n",
       "      <td>0.000000</td>\n",
       "      <td>2.960000</td>\n",
       "      <td>6.220000</td>\n",
       "      <td>76.700000</td>\n",
       "      <td>3.180000</td>\n",
       "      <td>5.000000</td>\n",
       "      <td>330.000000</td>\n",
       "      <td>19.100000</td>\n",
       "      <td>0.000000</td>\n",
       "      <td>0.000000</td>\n",
       "      <td>0.50000</td>\n",
       "    </tr>\n",
       "    <tr>\n",
       "      <th>75%</th>\n",
       "      <td>734.250000</td>\n",
       "      <td>0.550000</td>\n",
       "      <td>12.500000</td>\n",
       "      <td>18.100000</td>\n",
       "      <td>0.000000</td>\n",
       "      <td>3.832500</td>\n",
       "      <td>6.480000</td>\n",
       "      <td>90.700000</td>\n",
       "      <td>4.450000</td>\n",
       "      <td>24.000000</td>\n",
       "      <td>430.000000</td>\n",
       "      <td>20.200000</td>\n",
       "      <td>1.000000</td>\n",
       "      <td>1.000000</td>\n",
       "      <td>1.00000</td>\n",
       "    </tr>\n",
       "    <tr>\n",
       "      <th>max</th>\n",
       "      <td>975.000000</td>\n",
       "      <td>0.990000</td>\n",
       "      <td>100.000000</td>\n",
       "      <td>27.740000</td>\n",
       "      <td>1.000000</td>\n",
       "      <td>10.000000</td>\n",
       "      <td>8.780000</td>\n",
       "      <td>100.000000</td>\n",
       "      <td>12.130000</td>\n",
       "      <td>24.000000</td>\n",
       "      <td>711.000000</td>\n",
       "      <td>22.000000</td>\n",
       "      <td>1.000000</td>\n",
       "      <td>1.000000</td>\n",
       "      <td>1.00000</td>\n",
       "    </tr>\n",
       "  </tbody>\n",
       "</table>\n",
       "</div>"
      ],
      "text/plain": [
       "             CMEDV         CRIM           ZN        INDUS         CHAS  \\\n",
       "count  1000.000000  1000.000000  1000.000000  1000.000000  1000.000000   \n",
       "mean    706.236000     0.458690    10.998500    10.865210     0.074000   \n",
       "std      69.644157     0.146198    23.033275     6.086324     0.261902   \n",
       "min     525.000000     0.130000     0.000000     0.460000     0.000000   \n",
       "25%     671.000000     0.357500     0.000000     6.060000     0.000000   \n",
       "50%     704.000000     0.440000     0.000000     8.560000     0.000000   \n",
       "75%     734.250000     0.550000    12.500000    18.100000     0.000000   \n",
       "max     975.000000     0.990000   100.000000    27.740000     1.000000   \n",
       "\n",
       "               NOX           RM          AGE          DIS          RAD  \\\n",
       "count  1000.000000  1000.000000  1000.000000  1000.000000  1000.000000   \n",
       "mean      3.059140     6.266140    70.500300     3.612240     9.698000   \n",
       "std       1.394702     0.544119    23.776112     1.751456     8.839283   \n",
       "min       0.000000     3.560000     2.900000     1.130000     1.000000   \n",
       "25%       2.020000     5.960000    53.800000     2.320000     4.000000   \n",
       "50%       2.960000     6.220000    76.700000     3.180000     5.000000   \n",
       "75%       3.832500     6.480000    90.700000     4.450000    24.000000   \n",
       "max      10.000000     8.780000   100.000000    12.130000    24.000000   \n",
       "\n",
       "               TAX      PTRATIO         PARK         POOL      CINEMA  \n",
       "count  1000.000000  1000.000000  1000.000000  1000.000000  1000.00000  \n",
       "mean    392.565600    18.683200     0.399000     0.330000     0.50000  \n",
       "std     147.757376     1.795277     0.489938     0.470448     0.50025  \n",
       "min     187.000000    12.600000     0.000000     0.000000     0.00000  \n",
       "25%     296.000000    17.800000     0.000000     0.000000     0.00000  \n",
       "50%     330.000000    19.100000     0.000000     0.000000     0.50000  \n",
       "75%     430.000000    20.200000     1.000000     1.000000     1.00000  \n",
       "max     711.000000    22.000000     1.000000     1.000000     1.00000  "
      ]
     },
     "execution_count": 11,
     "metadata": {},
     "output_type": "execute_result"
    }
   ],
   "source": [
    "dataset.describe()"
   ]
  },
  {
   "cell_type": "code",
   "execution_count": 12,
   "id": "42fac29b",
   "metadata": {},
   "outputs": [
    {
     "name": "stdout",
     "output_type": "stream",
     "text": [
      "Null values per column : \n",
      " CMEDV      0\n",
      "CRIM       0\n",
      "ZN         0\n",
      "INDUS      0\n",
      "CHAS       0\n",
      "NOX        0\n",
      "RM         0\n",
      "AGE        0\n",
      "DIS        0\n",
      "RAD        0\n",
      "TAX        0\n",
      "PTRATIO    0\n",
      "PARK       0\n",
      "POOL       0\n",
      "CINEMA     0\n",
      "dtype: int64\n"
     ]
    }
   ],
   "source": [
    "print('Null values per column : \\n', dataset.isnull().sum())"
   ]
  },
  {
   "cell_type": "code",
   "execution_count": 13,
   "id": "07002353",
   "metadata": {},
   "outputs": [],
   "source": [
    "data = dataset.dropna()"
   ]
  },
  {
   "cell_type": "code",
   "execution_count": 14,
   "id": "e2a60caa",
   "metadata": {},
   "outputs": [
    {
     "data": {
      "text/html": [
       "<div>\n",
       "<style scoped>\n",
       "    .dataframe tbody tr th:only-of-type {\n",
       "        vertical-align: middle;\n",
       "    }\n",
       "\n",
       "    .dataframe tbody tr th {\n",
       "        vertical-align: top;\n",
       "    }\n",
       "\n",
       "    .dataframe thead th {\n",
       "        text-align: right;\n",
       "    }\n",
       "</style>\n",
       "<table border=\"1\" class=\"dataframe\">\n",
       "  <thead>\n",
       "    <tr style=\"text-align: right;\">\n",
       "      <th></th>\n",
       "      <th>CMEDV</th>\n",
       "      <th>CRIM</th>\n",
       "      <th>ZN</th>\n",
       "      <th>INDUS</th>\n",
       "      <th>CHAS</th>\n",
       "      <th>NOX</th>\n",
       "      <th>RM</th>\n",
       "      <th>AGE</th>\n",
       "      <th>DIS</th>\n",
       "      <th>RAD</th>\n",
       "      <th>TAX</th>\n",
       "      <th>PTRATIO</th>\n",
       "      <th>PARK</th>\n",
       "      <th>POOL</th>\n",
       "      <th>CINEMA</th>\n",
       "    </tr>\n",
       "  </thead>\n",
       "  <tbody>\n",
       "    <tr>\n",
       "      <th>count</th>\n",
       "      <td>1000.000000</td>\n",
       "      <td>1000.000000</td>\n",
       "      <td>1000.000000</td>\n",
       "      <td>1000.000000</td>\n",
       "      <td>1000.000000</td>\n",
       "      <td>1000.000000</td>\n",
       "      <td>1000.000000</td>\n",
       "      <td>1000.000000</td>\n",
       "      <td>1000.000000</td>\n",
       "      <td>1000.000000</td>\n",
       "      <td>1000.000000</td>\n",
       "      <td>1000.000000</td>\n",
       "      <td>1000.000000</td>\n",
       "      <td>1000.000000</td>\n",
       "      <td>1000.00000</td>\n",
       "    </tr>\n",
       "    <tr>\n",
       "      <th>mean</th>\n",
       "      <td>706.236000</td>\n",
       "      <td>0.458690</td>\n",
       "      <td>10.998500</td>\n",
       "      <td>10.865210</td>\n",
       "      <td>0.074000</td>\n",
       "      <td>3.059140</td>\n",
       "      <td>6.266140</td>\n",
       "      <td>70.500300</td>\n",
       "      <td>3.612240</td>\n",
       "      <td>9.698000</td>\n",
       "      <td>392.565600</td>\n",
       "      <td>18.683200</td>\n",
       "      <td>0.399000</td>\n",
       "      <td>0.330000</td>\n",
       "      <td>0.50000</td>\n",
       "    </tr>\n",
       "    <tr>\n",
       "      <th>std</th>\n",
       "      <td>69.644157</td>\n",
       "      <td>0.146198</td>\n",
       "      <td>23.033275</td>\n",
       "      <td>6.086324</td>\n",
       "      <td>0.261902</td>\n",
       "      <td>1.394702</td>\n",
       "      <td>0.544119</td>\n",
       "      <td>23.776112</td>\n",
       "      <td>1.751456</td>\n",
       "      <td>8.839283</td>\n",
       "      <td>147.757376</td>\n",
       "      <td>1.795277</td>\n",
       "      <td>0.489938</td>\n",
       "      <td>0.470448</td>\n",
       "      <td>0.50025</td>\n",
       "    </tr>\n",
       "    <tr>\n",
       "      <th>min</th>\n",
       "      <td>525.000000</td>\n",
       "      <td>0.130000</td>\n",
       "      <td>0.000000</td>\n",
       "      <td>0.460000</td>\n",
       "      <td>0.000000</td>\n",
       "      <td>0.000000</td>\n",
       "      <td>3.560000</td>\n",
       "      <td>2.900000</td>\n",
       "      <td>1.130000</td>\n",
       "      <td>1.000000</td>\n",
       "      <td>187.000000</td>\n",
       "      <td>12.600000</td>\n",
       "      <td>0.000000</td>\n",
       "      <td>0.000000</td>\n",
       "      <td>0.00000</td>\n",
       "    </tr>\n",
       "    <tr>\n",
       "      <th>25%</th>\n",
       "      <td>671.000000</td>\n",
       "      <td>0.357500</td>\n",
       "      <td>0.000000</td>\n",
       "      <td>6.060000</td>\n",
       "      <td>0.000000</td>\n",
       "      <td>2.020000</td>\n",
       "      <td>5.960000</td>\n",
       "      <td>53.800000</td>\n",
       "      <td>2.320000</td>\n",
       "      <td>4.000000</td>\n",
       "      <td>296.000000</td>\n",
       "      <td>17.800000</td>\n",
       "      <td>0.000000</td>\n",
       "      <td>0.000000</td>\n",
       "      <td>0.00000</td>\n",
       "    </tr>\n",
       "    <tr>\n",
       "      <th>50%</th>\n",
       "      <td>704.000000</td>\n",
       "      <td>0.440000</td>\n",
       "      <td>0.000000</td>\n",
       "      <td>8.560000</td>\n",
       "      <td>0.000000</td>\n",
       "      <td>2.960000</td>\n",
       "      <td>6.220000</td>\n",
       "      <td>76.700000</td>\n",
       "      <td>3.180000</td>\n",
       "      <td>5.000000</td>\n",
       "      <td>330.000000</td>\n",
       "      <td>19.100000</td>\n",
       "      <td>0.000000</td>\n",
       "      <td>0.000000</td>\n",
       "      <td>0.50000</td>\n",
       "    </tr>\n",
       "    <tr>\n",
       "      <th>75%</th>\n",
       "      <td>734.250000</td>\n",
       "      <td>0.550000</td>\n",
       "      <td>12.500000</td>\n",
       "      <td>18.100000</td>\n",
       "      <td>0.000000</td>\n",
       "      <td>3.832500</td>\n",
       "      <td>6.480000</td>\n",
       "      <td>90.700000</td>\n",
       "      <td>4.450000</td>\n",
       "      <td>24.000000</td>\n",
       "      <td>430.000000</td>\n",
       "      <td>20.200000</td>\n",
       "      <td>1.000000</td>\n",
       "      <td>1.000000</td>\n",
       "      <td>1.00000</td>\n",
       "    </tr>\n",
       "    <tr>\n",
       "      <th>max</th>\n",
       "      <td>975.000000</td>\n",
       "      <td>0.990000</td>\n",
       "      <td>100.000000</td>\n",
       "      <td>27.740000</td>\n",
       "      <td>1.000000</td>\n",
       "      <td>10.000000</td>\n",
       "      <td>8.780000</td>\n",
       "      <td>100.000000</td>\n",
       "      <td>12.130000</td>\n",
       "      <td>24.000000</td>\n",
       "      <td>711.000000</td>\n",
       "      <td>22.000000</td>\n",
       "      <td>1.000000</td>\n",
       "      <td>1.000000</td>\n",
       "      <td>1.00000</td>\n",
       "    </tr>\n",
       "  </tbody>\n",
       "</table>\n",
       "</div>"
      ],
      "text/plain": [
       "             CMEDV         CRIM           ZN        INDUS         CHAS  \\\n",
       "count  1000.000000  1000.000000  1000.000000  1000.000000  1000.000000   \n",
       "mean    706.236000     0.458690    10.998500    10.865210     0.074000   \n",
       "std      69.644157     0.146198    23.033275     6.086324     0.261902   \n",
       "min     525.000000     0.130000     0.000000     0.460000     0.000000   \n",
       "25%     671.000000     0.357500     0.000000     6.060000     0.000000   \n",
       "50%     704.000000     0.440000     0.000000     8.560000     0.000000   \n",
       "75%     734.250000     0.550000    12.500000    18.100000     0.000000   \n",
       "max     975.000000     0.990000   100.000000    27.740000     1.000000   \n",
       "\n",
       "               NOX           RM          AGE          DIS          RAD  \\\n",
       "count  1000.000000  1000.000000  1000.000000  1000.000000  1000.000000   \n",
       "mean      3.059140     6.266140    70.500300     3.612240     9.698000   \n",
       "std       1.394702     0.544119    23.776112     1.751456     8.839283   \n",
       "min       0.000000     3.560000     2.900000     1.130000     1.000000   \n",
       "25%       2.020000     5.960000    53.800000     2.320000     4.000000   \n",
       "50%       2.960000     6.220000    76.700000     3.180000     5.000000   \n",
       "75%       3.832500     6.480000    90.700000     4.450000    24.000000   \n",
       "max      10.000000     8.780000   100.000000    12.130000    24.000000   \n",
       "\n",
       "               TAX      PTRATIO         PARK         POOL      CINEMA  \n",
       "count  1000.000000  1000.000000  1000.000000  1000.000000  1000.00000  \n",
       "mean    392.565600    18.683200     0.399000     0.330000     0.50000  \n",
       "std     147.757376     1.795277     0.489938     0.470448     0.50025  \n",
       "min     187.000000    12.600000     0.000000     0.000000     0.00000  \n",
       "25%     296.000000    17.800000     0.000000     0.000000     0.00000  \n",
       "50%     330.000000    19.100000     0.000000     0.000000     0.50000  \n",
       "75%     430.000000    20.200000     1.000000     1.000000     1.00000  \n",
       "max     711.000000    22.000000     1.000000     1.000000     1.00000  "
      ]
     },
     "execution_count": 14,
     "metadata": {},
     "output_type": "execute_result"
    }
   ],
   "source": [
    "dataset.describe()"
   ]
  },
  {
   "cell_type": "code",
   "execution_count": 80,
   "id": "daf71ffa",
   "metadata": {},
   "outputs": [
    {
     "data": {
      "image/png": "[encoded data removed]",
      "text/plain": [
       "<Figure size 1080x720 with 2 Axes>"
      ]
     },
     "metadata": {},
     "output_type": "display_data"
    }
   ],
   "source": [
    "corr = dataset.corr()\n",
    "#Plot figsize\n",
    "fig, ax = plt.subplots(figsize=(15, 10))\n",
    "#Generate Heat Map, allow annotations and place floats in map\n",
    "sns.heatmap(corr, cmap='RdBu', annot=True, fmt=\".2f\")\n",
    "#Apply xticks\n",
    "plt.xticks(range(len(corr.columns)), corr.columns);\n",
    "#Apply yticks\n",
    "plt.yticks(range(len(corr.columns)), corr.columns)\n",
    "#show plot\n",
    "plt.savefig('corr_plot.png')"
   ]
  },
  {
   "cell_type": "code",
   "execution_count": null,
   "id": "3b05eb68",
   "metadata": {},
   "outputs": [],
   "source": [
    "sns.pairplot(dataset)\n",
    "plt.savefig(\"pairplot.png\")"
   ]
  },
  {
   "cell_type": "code",
   "execution_count": 82,
   "id": "190a506a",
   "metadata": {},
   "outputs": [
    {
     "name": "stderr",
     "output_type": "stream",
     "text": [
      "/users-2/billy/.local/lib/python3.8/site-packages/seaborn/distributions.py:2557: FutureWarning: `distplot` is a deprecated function and will be removed in a future version. Please adapt your code to use either `displot` (a figure-level function with similar flexibility) or `histplot` (an axes-level function for histograms).\n",
      "  warnings.warn(msg, FutureWarning)\n"
     ]
    },
    {
     "data": {
      "image/png": "[encoded data removed]",
      "text/plain": [
       "<Figure size 720x432 with 1 Axes>"
      ]
     },
     "metadata": {},
     "output_type": "display_data"
    }
   ],
   "source": [
    "plt.figure(figsize=(10, 6))\n",
    "sns.distplot(dataset['CMEDV'],bins=30)\n",
    "plt.savefig(\"target_distribution\")"
   ]
  },
  {
   "cell_type": "code",
   "execution_count": 199,
   "id": "2d95973a",
   "metadata": {},
   "outputs": [],
   "source": [
    "# # Normalize the features\n",
    "# for column in dataset.columns:\n",
    "#     if column != 'CMEDV':\n",
    "#         dataset[column] = (dataset[column] - dataset[column].min()) / (dataset[column].max() - dataset[column].min())\n",
    "\n",
    "# # Normalize the target\n",
    "# dataset[\"CMEDV\"] = (dataset['CMEDV'] - dataset[\"CMEDV\"].mean()) / dataset[\"CMEDV\"].std()\n",
    "# # dataset[\"CMEDV\"] = (dataset[\"CMEDV\"] - dataset[\"CMEDV\"].min()) / (dataset[\"CMEDV\"].max() - dataset[\"CMEDV\"].min())\n",
    "\n",
    "# # Save the normalized data\n",
    "# dataset.to_csv(\"normalized_data.csv\")"
   ]
  },
  {
   "cell_type": "code",
   "execution_count": 15,
   "id": "62ce15af",
   "metadata": {},
   "outputs": [],
   "source": [
    "df_normilised = pd.read_csv(\"normalized_data.csv\").drop(columns = ['Unnamed: 0'])"
   ]
  },
  {
   "cell_type": "code",
   "execution_count": 16,
   "id": "503a6578",
   "metadata": {},
   "outputs": [],
   "source": [
    "normalised_threshold = (725 - df[\"CMEDV\"].mean()) / df[\"CMEDV\"].std()\n",
    "# thres =  (750 - df[\"CMEDV\"].min()) / (df[\"CMEDV\"].max() - df[\"CMEDV\"].min())"
   ]
  },
  {
   "cell_type": "code",
   "execution_count": 236,
   "id": "b7f3ba57",
   "metadata": {},
   "outputs": [
    {
     "data": {
      "text/html": [
       "<div>\n",
       "<style scoped>\n",
       "    .dataframe tbody tr th:only-of-type {\n",
       "        vertical-align: middle;\n",
       "    }\n",
       "\n",
       "    .dataframe tbody tr th {\n",
       "        vertical-align: top;\n",
       "    }\n",
       "\n",
       "    .dataframe thead th {\n",
       "        text-align: right;\n",
       "    }\n",
       "</style>\n",
       "<table border=\"1\" class=\"dataframe\">\n",
       "  <thead>\n",
       "    <tr style=\"text-align: right;\">\n",
       "      <th></th>\n",
       "      <th>CMEDV</th>\n",
       "      <th>CRIM</th>\n",
       "      <th>ZN</th>\n",
       "      <th>INDUS</th>\n",
       "      <th>CHAS</th>\n",
       "      <th>NOX</th>\n",
       "      <th>RM</th>\n",
       "      <th>AGE</th>\n",
       "      <th>DIS</th>\n",
       "      <th>RAD</th>\n",
       "      <th>TAX</th>\n",
       "      <th>PTRATIO</th>\n",
       "      <th>PARK</th>\n",
       "      <th>POOL</th>\n",
       "      <th>CINEMA</th>\n",
       "    </tr>\n",
       "  </thead>\n",
       "  <tbody>\n",
       "    <tr>\n",
       "      <th>0</th>\n",
       "      <td>0.125840</td>\n",
       "      <td>0.151163</td>\n",
       "      <td>0.18</td>\n",
       "      <td>0.067815</td>\n",
       "      <td>0.0</td>\n",
       "      <td>0.197</td>\n",
       "      <td>0.578544</td>\n",
       "      <td>0.033986</td>\n",
       "      <td>0.270000</td>\n",
       "      <td>0.000000</td>\n",
       "      <td>0.208015</td>\n",
       "      <td>0.287234</td>\n",
       "      <td>0.0</td>\n",
       "      <td>0.0</td>\n",
       "      <td>0.0</td>\n",
       "    </tr>\n",
       "    <tr>\n",
       "      <th>1</th>\n",
       "      <td>-0.218769</td>\n",
       "      <td>0.174419</td>\n",
       "      <td>0.00</td>\n",
       "      <td>0.242302</td>\n",
       "      <td>0.0</td>\n",
       "      <td>0.364</td>\n",
       "      <td>0.547893</td>\n",
       "      <td>0.608651</td>\n",
       "      <td>0.096364</td>\n",
       "      <td>0.043478</td>\n",
       "      <td>0.105153</td>\n",
       "      <td>0.553191</td>\n",
       "      <td>1.0</td>\n",
       "      <td>1.0</td>\n",
       "      <td>1.0</td>\n",
       "    </tr>\n",
       "    <tr>\n",
       "      <th>2</th>\n",
       "      <td>1.662221</td>\n",
       "      <td>0.197674</td>\n",
       "      <td>0.00</td>\n",
       "      <td>0.242302</td>\n",
       "      <td>0.0</td>\n",
       "      <td>0.167</td>\n",
       "      <td>0.695402</td>\n",
       "      <td>0.841401</td>\n",
       "      <td>0.229091</td>\n",
       "      <td>0.043478</td>\n",
       "      <td>0.104962</td>\n",
       "      <td>0.553191</td>\n",
       "      <td>1.0</td>\n",
       "      <td>1.0</td>\n",
       "      <td>0.0</td>\n",
       "    </tr>\n",
       "    <tr>\n",
       "      <th>3</th>\n",
       "      <td>1.475558</td>\n",
       "      <td>0.093023</td>\n",
       "      <td>0.00</td>\n",
       "      <td>0.063050</td>\n",
       "      <td>0.0</td>\n",
       "      <td>0.140</td>\n",
       "      <td>0.659004</td>\n",
       "      <td>0.456231</td>\n",
       "      <td>0.000000</td>\n",
       "      <td>0.086957</td>\n",
       "      <td>0.066794</td>\n",
       "      <td>0.648936</td>\n",
       "      <td>0.0</td>\n",
       "      <td>0.0</td>\n",
       "      <td>1.0</td>\n",
       "    </tr>\n",
       "    <tr>\n",
       "      <th>4</th>\n",
       "      <td>1.877602</td>\n",
       "      <td>0.151163</td>\n",
       "      <td>0.00</td>\n",
       "      <td>0.063050</td>\n",
       "      <td>0.0</td>\n",
       "      <td>0.037</td>\n",
       "      <td>0.687739</td>\n",
       "      <td>0.894954</td>\n",
       "      <td>0.215455</td>\n",
       "      <td>0.086957</td>\n",
       "      <td>0.066794</td>\n",
       "      <td>0.648936</td>\n",
       "      <td>1.0</td>\n",
       "      <td>0.0</td>\n",
       "      <td>1.0</td>\n",
       "    </tr>\n",
       "    <tr>\n",
       "      <th>...</th>\n",
       "      <td>...</td>\n",
       "      <td>...</td>\n",
       "      <td>...</td>\n",
       "      <td>...</td>\n",
       "      <td>...</td>\n",
       "      <td>...</td>\n",
       "      <td>...</td>\n",
       "      <td>...</td>\n",
       "      <td>...</td>\n",
       "      <td>...</td>\n",
       "      <td>...</td>\n",
       "      <td>...</td>\n",
       "      <td>...</td>\n",
       "      <td>...</td>\n",
       "      <td>...</td>\n",
       "    </tr>\n",
       "    <tr>\n",
       "      <th>995</th>\n",
       "      <td>0.413014</td>\n",
       "      <td>0.488372</td>\n",
       "      <td>0.20</td>\n",
       "      <td>0.350073</td>\n",
       "      <td>0.0</td>\n",
       "      <td>0.183</td>\n",
       "      <td>0.549808</td>\n",
       "      <td>0.952626</td>\n",
       "      <td>0.417273</td>\n",
       "      <td>0.173913</td>\n",
       "      <td>0.215649</td>\n",
       "      <td>0.510638</td>\n",
       "      <td>0.0</td>\n",
       "      <td>0.0</td>\n",
       "      <td>0.0</td>\n",
       "    </tr>\n",
       "    <tr>\n",
       "      <th>996</th>\n",
       "      <td>-0.319280</td>\n",
       "      <td>0.441860</td>\n",
       "      <td>0.00</td>\n",
       "      <td>0.646628</td>\n",
       "      <td>0.0</td>\n",
       "      <td>0.394</td>\n",
       "      <td>0.411877</td>\n",
       "      <td>0.603502</td>\n",
       "      <td>0.082727</td>\n",
       "      <td>1.000000</td>\n",
       "      <td>0.185115</td>\n",
       "      <td>0.808511</td>\n",
       "      <td>0.0</td>\n",
       "      <td>0.0</td>\n",
       "      <td>0.0</td>\n",
       "    </tr>\n",
       "    <tr>\n",
       "      <th>997</th>\n",
       "      <td>-0.218769</td>\n",
       "      <td>0.558140</td>\n",
       "      <td>0.28</td>\n",
       "      <td>0.700880</td>\n",
       "      <td>0.0</td>\n",
       "      <td>0.365</td>\n",
       "      <td>0.490421</td>\n",
       "      <td>0.514933</td>\n",
       "      <td>0.035455</td>\n",
       "      <td>0.130435</td>\n",
       "      <td>0.215649</td>\n",
       "      <td>0.808511</td>\n",
       "      <td>0.0</td>\n",
       "      <td>0.0</td>\n",
       "      <td>1.0</td>\n",
       "    </tr>\n",
       "    <tr>\n",
       "      <th>998</th>\n",
       "      <td>-0.060823</td>\n",
       "      <td>0.534884</td>\n",
       "      <td>0.00</td>\n",
       "      <td>0.281525</td>\n",
       "      <td>0.0</td>\n",
       "      <td>0.271</td>\n",
       "      <td>0.528736</td>\n",
       "      <td>0.262616</td>\n",
       "      <td>0.242727</td>\n",
       "      <td>0.173913</td>\n",
       "      <td>0.223282</td>\n",
       "      <td>0.808511</td>\n",
       "      <td>0.0</td>\n",
       "      <td>0.0</td>\n",
       "      <td>1.0</td>\n",
       "    </tr>\n",
       "    <tr>\n",
       "      <th>999</th>\n",
       "      <td>-0.347998</td>\n",
       "      <td>0.209302</td>\n",
       "      <td>0.00</td>\n",
       "      <td>0.350073</td>\n",
       "      <td>0.0</td>\n",
       "      <td>0.292</td>\n",
       "      <td>0.526820</td>\n",
       "      <td>0.927909</td>\n",
       "      <td>0.028182</td>\n",
       "      <td>0.217391</td>\n",
       "      <td>0.301527</td>\n",
       "      <td>0.648936</td>\n",
       "      <td>0.0</td>\n",
       "      <td>0.0</td>\n",
       "      <td>1.0</td>\n",
       "    </tr>\n",
       "  </tbody>\n",
       "</table>\n",
       "<p>1000 rows × 15 columns</p>\n",
       "</div>"
      ],
      "text/plain": [
       "        CMEDV      CRIM    ZN     INDUS  CHAS    NOX        RM       AGE  \\\n",
       "0    0.125840  0.151163  0.18  0.067815   0.0  0.197  0.578544  0.033986   \n",
       "1   -0.218769  0.174419  0.00  0.242302   0.0  0.364  0.547893  0.608651   \n",
       "2    1.662221  0.197674  0.00  0.242302   0.0  0.167  0.695402  0.841401   \n",
       "3    1.475558  0.093023  0.00  0.063050   0.0  0.140  0.659004  0.456231   \n",
       "4    1.877602  0.151163  0.00  0.063050   0.0  0.037  0.687739  0.894954   \n",
       "..        ...       ...   ...       ...   ...    ...       ...       ...   \n",
       "995  0.413014  0.488372  0.20  0.350073   0.0  0.183  0.549808  0.952626   \n",
       "996 -0.319280  0.441860  0.00  0.646628   0.0  0.394  0.411877  0.603502   \n",
       "997 -0.218769  0.558140  0.28  0.700880   0.0  0.365  0.490421  0.514933   \n",
       "998 -0.060823  0.534884  0.00  0.281525   0.0  0.271  0.528736  0.262616   \n",
       "999 -0.347998  0.209302  0.00  0.350073   0.0  0.292  0.526820  0.927909   \n",
       "\n",
       "          DIS       RAD       TAX   PTRATIO  PARK  POOL  CINEMA  \n",
       "0    0.270000  0.000000  0.208015  0.287234   0.0   0.0     0.0  \n",
       "1    0.096364  0.043478  0.105153  0.553191   1.0   1.0     1.0  \n",
       "2    0.229091  0.043478  0.104962  0.553191   1.0   1.0     0.0  \n",
       "3    0.000000  0.086957  0.066794  0.648936   0.0   0.0     1.0  \n",
       "4    0.215455  0.086957  0.066794  0.648936   1.0   0.0     1.0  \n",
       "..        ...       ...       ...       ...   ...   ...     ...  \n",
       "995  0.417273  0.173913  0.215649  0.510638   0.0   0.0     0.0  \n",
       "996  0.082727  1.000000  0.185115  0.808511   0.0   0.0     0.0  \n",
       "997  0.035455  0.130435  0.215649  0.808511   0.0   0.0     1.0  \n",
       "998  0.242727  0.173913  0.223282  0.808511   0.0   0.0     1.0  \n",
       "999  0.028182  0.217391  0.301527  0.648936   0.0   0.0     1.0  \n",
       "\n",
       "[1000 rows x 15 columns]"
      ]
     },
     "execution_count": 236,
     "metadata": {},
     "output_type": "execute_result"
    }
   ],
   "source": [
    "df_normilised"
   ]
  },
  {
   "cell_type": "code",
   "execution_count": 17,
   "id": "8b872ee4",
   "metadata": {
    "scrolled": true
   },
   "outputs": [
    {
     "data": {
      "text/plain": [
       "0.26942676589230646"
      ]
     },
     "execution_count": 17,
     "metadata": {},
     "output_type": "execute_result"
    }
   ],
   "source": [
    "normalised_threshold"
   ]
  },
  {
   "cell_type": "code",
   "execution_count": 18,
   "id": "64036a4a",
   "metadata": {},
   "outputs": [],
   "source": [
    "# thres"
   ]
  },
  {
   "cell_type": "code",
   "execution_count": 19,
   "id": "911648bc",
   "metadata": {},
   "outputs": [
    {
     "data": {
      "text/html": [
       "<div>\n",
       "<style scoped>\n",
       "    .dataframe tbody tr th:only-of-type {\n",
       "        vertical-align: middle;\n",
       "    }\n",
       "\n",
       "    .dataframe tbody tr th {\n",
       "        vertical-align: top;\n",
       "    }\n",
       "\n",
       "    .dataframe thead th {\n",
       "        text-align: right;\n",
       "    }\n",
       "</style>\n",
       "<table border=\"1\" class=\"dataframe\">\n",
       "  <thead>\n",
       "    <tr style=\"text-align: right;\">\n",
       "      <th></th>\n",
       "      <th>CMEDV</th>\n",
       "      <th>CRIM</th>\n",
       "      <th>ZN</th>\n",
       "      <th>INDUS</th>\n",
       "      <th>CHAS</th>\n",
       "      <th>NOX</th>\n",
       "      <th>RM</th>\n",
       "      <th>AGE</th>\n",
       "      <th>DIS</th>\n",
       "      <th>RAD</th>\n",
       "      <th>TAX</th>\n",
       "      <th>PTRATIO</th>\n",
       "      <th>PARK</th>\n",
       "      <th>POOL</th>\n",
       "      <th>CINEMA</th>\n",
       "    </tr>\n",
       "  </thead>\n",
       "  <tbody>\n",
       "    <tr>\n",
       "      <th>count</th>\n",
       "      <td>1.000000e+03</td>\n",
       "      <td>1000.000000</td>\n",
       "      <td>1000.000000</td>\n",
       "      <td>1000.000000</td>\n",
       "      <td>1000.000000</td>\n",
       "      <td>1000.000000</td>\n",
       "      <td>1000.000000</td>\n",
       "      <td>1000.000000</td>\n",
       "      <td>1000.000000</td>\n",
       "      <td>1000.000000</td>\n",
       "      <td>1000.000000</td>\n",
       "      <td>1000.000000</td>\n",
       "      <td>1000.000000</td>\n",
       "      <td>1000.000000</td>\n",
       "      <td>1000.00000</td>\n",
       "    </tr>\n",
       "    <tr>\n",
       "      <th>mean</th>\n",
       "      <td>1.421085e-16</td>\n",
       "      <td>0.382198</td>\n",
       "      <td>0.109985</td>\n",
       "      <td>0.381423</td>\n",
       "      <td>0.074000</td>\n",
       "      <td>0.305914</td>\n",
       "      <td>0.518418</td>\n",
       "      <td>0.696193</td>\n",
       "      <td>0.225658</td>\n",
       "      <td>0.378174</td>\n",
       "      <td>0.392301</td>\n",
       "      <td>0.647149</td>\n",
       "      <td>0.399000</td>\n",
       "      <td>0.330000</td>\n",
       "      <td>0.50000</td>\n",
       "    </tr>\n",
       "    <tr>\n",
       "      <th>std</th>\n",
       "      <td>1.000000e+00</td>\n",
       "      <td>0.169997</td>\n",
       "      <td>0.230333</td>\n",
       "      <td>0.223106</td>\n",
       "      <td>0.261902</td>\n",
       "      <td>0.139470</td>\n",
       "      <td>0.104237</td>\n",
       "      <td>0.244862</td>\n",
       "      <td>0.159223</td>\n",
       "      <td>0.384317</td>\n",
       "      <td>0.281980</td>\n",
       "      <td>0.190987</td>\n",
       "      <td>0.489938</td>\n",
       "      <td>0.470448</td>\n",
       "      <td>0.50025</td>\n",
       "    </tr>\n",
       "    <tr>\n",
       "      <th>min</th>\n",
       "      <td>-2.602315e+00</td>\n",
       "      <td>0.000000</td>\n",
       "      <td>0.000000</td>\n",
       "      <td>0.000000</td>\n",
       "      <td>0.000000</td>\n",
       "      <td>0.000000</td>\n",
       "      <td>0.000000</td>\n",
       "      <td>0.000000</td>\n",
       "      <td>0.000000</td>\n",
       "      <td>0.000000</td>\n",
       "      <td>0.000000</td>\n",
       "      <td>0.000000</td>\n",
       "      <td>0.000000</td>\n",
       "      <td>0.000000</td>\n",
       "      <td>0.00000</td>\n",
       "    </tr>\n",
       "    <tr>\n",
       "      <th>25%</th>\n",
       "      <td>-5.059434e-01</td>\n",
       "      <td>0.264535</td>\n",
       "      <td>0.000000</td>\n",
       "      <td>0.205279</td>\n",
       "      <td>0.000000</td>\n",
       "      <td>0.202000</td>\n",
       "      <td>0.459770</td>\n",
       "      <td>0.524202</td>\n",
       "      <td>0.108182</td>\n",
       "      <td>0.130435</td>\n",
       "      <td>0.208015</td>\n",
       "      <td>0.553191</td>\n",
       "      <td>0.000000</td>\n",
       "      <td>0.000000</td>\n",
       "      <td>0.00000</td>\n",
       "    </tr>\n",
       "    <tr>\n",
       "      <th>50%</th>\n",
       "      <td>-3.210607e-02</td>\n",
       "      <td>0.360465</td>\n",
       "      <td>0.000000</td>\n",
       "      <td>0.296921</td>\n",
       "      <td>0.000000</td>\n",
       "      <td>0.296000</td>\n",
       "      <td>0.509579</td>\n",
       "      <td>0.760041</td>\n",
       "      <td>0.186364</td>\n",
       "      <td>0.173913</td>\n",
       "      <td>0.272901</td>\n",
       "      <td>0.691489</td>\n",
       "      <td>0.000000</td>\n",
       "      <td>0.000000</td>\n",
       "      <td>0.50000</td>\n",
       "    </tr>\n",
       "    <tr>\n",
       "      <th>75%</th>\n",
       "      <td>4.022448e-01</td>\n",
       "      <td>0.488372</td>\n",
       "      <td>0.125000</td>\n",
       "      <td>0.646628</td>\n",
       "      <td>0.000000</td>\n",
       "      <td>0.383250</td>\n",
       "      <td>0.559387</td>\n",
       "      <td>0.904222</td>\n",
       "      <td>0.301818</td>\n",
       "      <td>1.000000</td>\n",
       "      <td>0.463740</td>\n",
       "      <td>0.808511</td>\n",
       "      <td>1.000000</td>\n",
       "      <td>1.000000</td>\n",
       "      <td>1.00000</td>\n",
       "    </tr>\n",
       "    <tr>\n",
       "      <th>max</th>\n",
       "      <td>3.859103e+00</td>\n",
       "      <td>1.000000</td>\n",
       "      <td>1.000000</td>\n",
       "      <td>1.000000</td>\n",
       "      <td>1.000000</td>\n",
       "      <td>1.000000</td>\n",
       "      <td>1.000000</td>\n",
       "      <td>1.000000</td>\n",
       "      <td>1.000000</td>\n",
       "      <td>1.000000</td>\n",
       "      <td>1.000000</td>\n",
       "      <td>1.000000</td>\n",
       "      <td>1.000000</td>\n",
       "      <td>1.000000</td>\n",
       "      <td>1.00000</td>\n",
       "    </tr>\n",
       "  </tbody>\n",
       "</table>\n",
       "</div>"
      ],
      "text/plain": [
       "              CMEDV         CRIM           ZN        INDUS         CHAS  \\\n",
       "count  1.000000e+03  1000.000000  1000.000000  1000.000000  1000.000000   \n",
       "mean   1.421085e-16     0.382198     0.109985     0.381423     0.074000   \n",
       "std    1.000000e+00     0.169997     0.230333     0.223106     0.261902   \n",
       "min   -2.602315e+00     0.000000     0.000000     0.000000     0.000000   \n",
       "25%   -5.059434e-01     0.264535     0.000000     0.205279     0.000000   \n",
       "50%   -3.210607e-02     0.360465     0.000000     0.296921     0.000000   \n",
       "75%    4.022448e-01     0.488372     0.125000     0.646628     0.000000   \n",
       "max    3.859103e+00     1.000000     1.000000     1.000000     1.000000   \n",
       "\n",
       "               NOX           RM          AGE          DIS          RAD  \\\n",
       "count  1000.000000  1000.000000  1000.000000  1000.000000  1000.000000   \n",
       "mean      0.305914     0.518418     0.696193     0.225658     0.378174   \n",
       "std       0.139470     0.104237     0.244862     0.159223     0.384317   \n",
       "min       0.000000     0.000000     0.000000     0.000000     0.000000   \n",
       "25%       0.202000     0.459770     0.524202     0.108182     0.130435   \n",
       "50%       0.296000     0.509579     0.760041     0.186364     0.173913   \n",
       "75%       0.383250     0.559387     0.904222     0.301818     1.000000   \n",
       "max       1.000000     1.000000     1.000000     1.000000     1.000000   \n",
       "\n",
       "               TAX      PTRATIO         PARK         POOL      CINEMA  \n",
       "count  1000.000000  1000.000000  1000.000000  1000.000000  1000.00000  \n",
       "mean      0.392301     0.647149     0.399000     0.330000     0.50000  \n",
       "std       0.281980     0.190987     0.489938     0.470448     0.50025  \n",
       "min       0.000000     0.000000     0.000000     0.000000     0.00000  \n",
       "25%       0.208015     0.553191     0.000000     0.000000     0.00000  \n",
       "50%       0.272901     0.691489     0.000000     0.000000     0.50000  \n",
       "75%       0.463740     0.808511     1.000000     1.000000     1.00000  \n",
       "max       1.000000     1.000000     1.000000     1.000000     1.00000  "
      ]
     },
     "execution_count": 19,
     "metadata": {},
     "output_type": "execute_result"
    }
   ],
   "source": [
    "df_normilised.describe()"
   ]
  },
  {
   "cell_type": "code",
   "execution_count": 27,
   "id": "252021ae",
   "metadata": {},
   "outputs": [],
   "source": [
    "\n",
    "\n",
    "\n",
    "from sklearn.model_selection import train_test_split"
   ]
  },
  {
   "cell_type": "code",
   "execution_count": 28,
   "id": "dce86178",
   "metadata": {},
   "outputs": [],
   "source": [
    "data =df_normilised"
   ]
  },
  {
   "cell_type": "code",
   "execution_count": 29,
   "id": "29e6930f",
   "metadata": {},
   "outputs": [],
   "source": [
    "X = data.drop(['CMEDV'], axis = 1)\n",
    "target_value = data['CMEDV']"
   ]
  },
  {
   "cell_type": "code",
   "execution_count": 30,
   "id": "fd42ac0b",
   "metadata": {},
   "outputs": [],
   "source": [
    "cat = X.select_dtypes(include='O').keys()\n",
    "X_new = pd.get_dummies(X, columns = cat, drop_first=True)"
   ]
  },
  {
   "cell_type": "code",
   "execution_count": 31,
   "id": "5d1c1c9f",
   "metadata": {},
   "outputs": [],
   "source": [
    "# target_value.describe()"
   ]
  },
  {
   "cell_type": "code",
   "execution_count": 32,
   "id": "b1e7ffd0",
   "metadata": {},
   "outputs": [
    {
     "name": "stdout",
     "output_type": "stream",
     "text": [
      "Index([], dtype='object')\n",
      "(1000, 14)\n"
     ]
    }
   ],
   "source": [
    "print(cat)\n",
    "print(X_new.shape)"
   ]
  },
  {
   "cell_type": "code",
   "execution_count": 33,
   "id": "a2ffb135",
   "metadata": {},
   "outputs": [],
   "source": [
    "X_train, X_test, y_train, y_test = train_test_split(X_new,\n",
    "                                                    target_value,\n",
    "                                                    test_size = 0.2,\n",
    "                                                    random_state = 1,\n",
    "                                                  )"
   ]
  },
  {
   "cell_type": "code",
   "execution_count": 34,
   "id": "0358e937",
   "metadata": {},
   "outputs": [
    {
     "data": {
      "text/html": [
       "<style>#sk-container-id-1 {color: black;background-color: white;}#sk-container-id-1 pre{padding: 0;}#sk-container-id-1 div.sk-toggleable {background-color: white;}#sk-container-id-1 label.sk-toggleable__label {cursor: pointer;display: block;width: 100%;margin-bottom: 0;padding: 0.3em;box-sizing: border-box;text-align: center;}#sk-container-id-1 label.sk-toggleable__label-arrow:before {content: \"▸\";float: left;margin-right: 0.25em;color: #696969;}#sk-container-id-1 label.sk-toggleable__label-arrow:hover:before {color: black;}#sk-container-id-1 div.sk-estimator:hover label.sk-toggleable__label-arrow:before {color: black;}#sk-container-id-1 div.sk-toggleable__content {max-height: 0;max-width: 0;overflow: hidden;text-align: left;background-color: #f0f8ff;}#sk-container-id-1 div.sk-toggleable__content pre {margin: 0.2em;color: black;border-radius: 0.25em;background-color: #f0f8ff;}#sk-container-id-1 input.sk-toggleable__control:checked~div.sk-toggleable__content {max-height: 200px;max-width: 100%;overflow: auto;}#sk-container-id-1 input.sk-toggleable__control:checked~label.sk-toggleable__label-arrow:before {content: \"▾\";}#sk-container-id-1 div.sk-estimator input.sk-toggleable__control:checked~label.sk-toggleable__label {background-color: #d4ebff;}#sk-container-id-1 div.sk-label input.sk-toggleable__control:checked~label.sk-toggleable__label {background-color: #d4ebff;}#sk-container-id-1 input.sk-hidden--visually {border: 0;clip: rect(1px 1px 1px 1px);clip: rect(1px, 1px, 1px, 1px);height: 1px;margin: -1px;overflow: hidden;padding: 0;position: absolute;width: 1px;}#sk-container-id-1 div.sk-estimator {font-family: monospace;background-color: #f0f8ff;border: 1px dotted black;border-radius: 0.25em;box-sizing: border-box;margin-bottom: 0.5em;}#sk-container-id-1 div.sk-estimator:hover {background-color: #d4ebff;}#sk-container-id-1 div.sk-parallel-item::after {content: \"\";width: 100%;border-bottom: 1px solid gray;flex-grow: 1;}#sk-container-id-1 div.sk-label:hover label.sk-toggleable__label {background-color: #d4ebff;}#sk-container-id-1 div.sk-serial::before {content: \"\";position: absolute;border-left: 1px solid gray;box-sizing: border-box;top: 0;bottom: 0;left: 50%;z-index: 0;}#sk-container-id-1 div.sk-serial {display: flex;flex-direction: column;align-items: center;background-color: white;padding-right: 0.2em;padding-left: 0.2em;position: relative;}#sk-container-id-1 div.sk-item {position: relative;z-index: 1;}#sk-container-id-1 div.sk-parallel {display: flex;align-items: stretch;justify-content: center;background-color: white;position: relative;}#sk-container-id-1 div.sk-item::before, #sk-container-id-1 div.sk-parallel-item::before {content: \"\";position: absolute;border-left: 1px solid gray;box-sizing: border-box;top: 0;bottom: 0;left: 50%;z-index: -1;}#sk-container-id-1 div.sk-parallel-item {display: flex;flex-direction: column;z-index: 1;position: relative;background-color: white;}#sk-container-id-1 div.sk-parallel-item:first-child::after {align-self: flex-end;width: 50%;}#sk-container-id-1 div.sk-parallel-item:last-child::after {align-self: flex-start;width: 50%;}#sk-container-id-1 div.sk-parallel-item:only-child::after {width: 0;}#sk-container-id-1 div.sk-dashed-wrapped {border: 1px dashed gray;margin: 0 0.4em 0.5em 0.4em;box-sizing: border-box;padding-bottom: 0.4em;background-color: white;}#sk-container-id-1 div.sk-label label {font-family: monospace;font-weight: bold;display: inline-block;line-height: 1.2em;}#sk-container-id-1 div.sk-label-container {text-align: center;}#sk-container-id-1 div.sk-container {/* jupyter's `normalize.less` sets `[hidden] { display: none; }` but bootstrap.min.css set `[hidden] { display: none !important; }` so we also need the `!important` here to be able to override the default hidden behavior on the sphinx rendered scikit-learn.org. See: https://github.com/scikit-learn/scikit-learn/issues/21755 */display: inline-block !important;position: relative;}#sk-container-id-1 div.sk-text-repr-fallback {display: none;}</style><div id=\"sk-container-id-1\" class=\"sk-top-container\"><div class=\"sk-text-repr-fallback\"><pre>LinearRegression()</pre><b>In a Jupyter environment, please rerun this cell to show the HTML representation or trust the notebook. <br />On GitHub, the HTML representation is unable to render, please try loading this page with nbviewer.org.</b></div><div class=\"sk-container\" hidden><div class=\"sk-item\"><div class=\"sk-estimator sk-toggleable\"><input class=\"sk-toggleable__control sk-hidden--visually\" id=\"sk-estimator-id-1\" type=\"checkbox\" checked><label for=\"sk-estimator-id-1\" class=\"sk-toggleable__label sk-toggleable__label-arrow\">LinearRegression</label><div class=\"sk-toggleable__content\"><pre>LinearRegression()</pre></div></div></div></div></div>"
      ],
      "text/plain": [
       "LinearRegression()"
      ]
     },
     "execution_count": 34,
     "metadata": {},
     "output_type": "execute_result"
    }
   ],
   "source": [
    "from sklearn.linear_model import LinearRegression\n",
    "regressor_linear = LinearRegression()\n",
    "regressor_linear.fit(X_train, y_train)"
   ]
  },
  {
   "cell_type": "code",
   "execution_count": 35,
   "id": "10f40263",
   "metadata": {},
   "outputs": [
    {
     "name": "stdout",
     "output_type": "stream",
     "text": [
      "CV:  0.7219157364395068\n",
      "R2_score (train):  0.7552015313825623\n",
      "R2_score (test):  0.7145356971752794\n",
      "RMSE:  0.5638697920985226\n"
     ]
    }
   ],
   "source": [
    "from sklearn.metrics import r2_score\n",
    "\n",
    "# Predicting Cross Validation Score the Test set results\n",
    "cv_linear = cross_val_score(estimator = regressor_linear, X = X_train, y = y_train, cv = 10)\n",
    "\n",
    "# Predicting R2 Score the Train set results\n",
    "y_pred_linear_train = regressor_linear.predict(X_train)\n",
    "r2_score_linear_train = r2_score(y_train, y_pred_linear_train)\n",
    "\n",
    "# Predicting R2 Score the Test set results\n",
    "y_pred_linear_test = regressor_linear.predict(X_test)\n",
    "r2_score_linear_test = r2_score(y_test, y_pred_linear_test)\n",
    "\n",
    "# Predicting RMSE the Test set results\n",
    "rmse_linear = (np.sqrt(mean_squared_error(y_test, y_pred_linear_test)))\n",
    "print(\"CV: \", cv_linear.mean())\n",
    "print('R2_score (train): ', r2_score_linear_train)\n",
    "print('R2_score (test): ', r2_score_linear_test)\n",
    "print(\"RMSE: \", rmse_linear)"
   ]
  },
  {
   "cell_type": "code",
   "execution_count": 36,
   "id": "78d6eb4c",
   "metadata": {
    "scrolled": true
   },
   "outputs": [
    {
     "ename": "AttributeError",
     "evalue": "'LinearRegression' object has no attribute 'summary'",
     "output_type": "error",
     "traceback": [
      "\u001b[0;31m---------------------------------------------------------------------------\u001b[0m",
      "\u001b[0;31mAttributeError\u001b[0m                            Traceback (most recent call last)",
      "Input \u001b[0;32mIn [36]\u001b[0m, in \u001b[0;36m<cell line: 1>\u001b[0;34m()\u001b[0m\n\u001b[0;32m----> 1\u001b[0m \u001b[43mregressor_linear\u001b[49m\u001b[38;5;241;43m.\u001b[39;49m\u001b[43msummary\u001b[49m()\n",
      "\u001b[0;31mAttributeError\u001b[0m: 'LinearRegression' object has no attribute 'summary'"
     ]
    }
   ],
   "source": [
    "regressor_linear.summary()"
   ]
  },
  {
   "cell_type": "code",
   "execution_count": 216,
   "id": "66f94b5a",
   "metadata": {},
   "outputs": [
    {
     "data": {
      "image/png": "[encoded data removed]",
      "text/plain": [
       "<Figure size 432x288 with 1 Axes>"
      ]
     },
     "metadata": {},
     "output_type": "display_data"
    }
   ],
   "source": [
    "plt.scatter(y_test, y_pred_linear_test)\n",
    "plt.xlabel(\"Actual\")\n",
    "plt.ylabel(\"Predicted\")\n",
    "plt.show()\n",
    "\n"
   ]
  },
  {
   "cell_type": "code",
   "execution_count": 37,
   "id": "c80e225e",
   "metadata": {},
   "outputs": [],
   "source": [
    "from sklearn.feature_selection import f_regression"
   ]
  },
  {
   "cell_type": "code",
   "execution_count": 222,
   "id": "60406d11",
   "metadata": {},
   "outputs": [],
   "source": [
    "# Get the coefficients\n",
    "coefficients = regressor_linear.coef_\n",
    "\n",
    "# Get the intercept\n",
    "intercept = regressor_linear.intercept_\n",
    "\n",
    "# Print the coefficients\n",
    "# print(\"Coefficients:\")\n",
    "# for feature, coefficient in zip(X.columns, coefficients):\n",
    "#     print(f\"{feature}: {coefficient}\")\n",
    "\n",
    "# # Print the intercept\n",
    "# print(\"Intercept:\", intercept)\n",
    "\n",
    "# Calculate the p-values\n",
    "f_values, p_values = f_regression(X_train,y_train)\n",
    "\n",
    "# # Print the p-values\n",
    "# print(\"P-values:\")\n",
    "# for feature, p_value in zip(X.columns, p_values):\n",
    "#     print(f\"{feature}: {p_value}\")"
   ]
  },
  {
   "cell_type": "code",
   "execution_count": 223,
   "id": "cd90c27e",
   "metadata": {},
   "outputs": [
    {
     "name": "stdout",
     "output_type": "stream",
     "text": [
      "Feature\tCoefficient\tT-statistic\tP-value\n",
      "CRIM\t-1.4299\t\t-2.9127\t\t0.0000\n",
      "ZN\t0.3631\t\t0.7397\t\t0.0000\n",
      "INDUS\t0.0620\t\t0.1264\t\t0.0000\n",
      "CHAS\t0.2778\t\t0.5658\t\t0.0000\n",
      "NOX\t-2.0339\t\t-4.1430\t\t0.0000\n",
      "RM\t3.1443\t\t6.4049\t\t0.0000\n",
      "AGE\t0.0137\t\t0.0279\t\t0.3000\n",
      "DIS\t-0.0930\t\t-0.1895\t\t0.7099\n",
      "RAD\t0.2334\t\t0.4754\t\t0.0000\n",
      "TAX\t-0.5691\t\t-1.1593\t\t0.0000\n",
      "PTRATIO\t-0.7350\t\t-1.4972\t\t0.0000\n",
      "PARK\t0.1386\t\t0.2823\t\t0.0000\n",
      "POOL\t0.1425\t\t0.2902\t\t0.0000\n",
      "CINEMA\t-0.0461\t\t-0.0940\t\t0.4605\n"
     ]
    }
   ],
   "source": [
    "# Print the coefficients, t-stats, and p-values\n",
    "print(\"Feature\\tCoefficient\\tT-statistic\\tP-value\")\n",
    "for feature, coefficient, p_value in zip(X.columns, coefficients, p_values):\n",
    "    # Calculate the standard error\n",
    "    residual_sum_of_squares = np.sum((regressor_linear.predict(X_train) - y_train) ** 2)\n",
    "    standard_error = np.sqrt(residual_sum_of_squares / (len(y_train) - len(X_train.columns) - 1))\n",
    "    \n",
    "    # Calculate the t-statistic\n",
    "    t_statistic = coefficient / standard_error\n",
    "    \n",
    "    print(f\"{feature}\\t{coefficient:.4f}\\t\\t{t_statistic:.4f}\\t\\t{p_value:.4f}\")"
   ]
  },
  {
   "cell_type": "code",
   "execution_count": 224,
   "id": "52fb01b7",
   "metadata": {},
   "outputs": [
    {
     "name": "stdout",
     "output_type": "stream",
     "text": [
      "R-squared: 0.7552015313825623\n",
      "Adjusted R-squared: 0.7508356988212321\n",
      "Mean Squared Error (MSE): 0.2364808032485869\n",
      "Mean Absolute Error (MAE): 0.3432120762404296\n"
     ]
    }
   ],
   "source": [
    "from sklearn.metrics import r2_score, mean_squared_error, mean_absolute_error\n",
    "\n",
    "\n",
    "# Make predictions on the training set\n",
    "y_pred_train = regressor_linear.predict(X_train)\n",
    "\n",
    "# Calculate R-squared\n",
    "r2 = r2_score(y_train, y_pred_train)\n",
    "\n",
    "# Calculate adjusted R-squared\n",
    "n = len(y_train)\n",
    "p = X_train.shape[1]\n",
    "adj_r2 = 1 - (1 - r2) * (n - 1) / (n - p - 1)\n",
    "\n",
    "# Calculate mean squared error (MSE)\n",
    "mse = mean_squared_error(y_train, y_pred_train)\n",
    "\n",
    "# Calculate mean absolute error (MAE)\n",
    "mae = mean_absolute_error(y_train, y_pred_train)\n",
    "\n",
    "# Print the evaluation metrics\n",
    "print(\"R-squared:\", r2)\n",
    "print(\"Adjusted R-squared:\", adj_r2)\n",
    "print(\"Mean Squared Error (MSE):\", mse)\n",
    "print(\"Mean Absolute Error (MAE):\", mae)"
   ]
  },
  {
   "cell_type": "code",
   "execution_count": 225,
   "id": "c5d15b30",
   "metadata": {},
   "outputs": [
    {
     "name": "stdout",
     "output_type": "stream",
     "text": [
      "R-squared: 0.7145356971752794\n",
      "Adjusted R-squared: 0.692932993177733\n",
      "Mean Squared Error (MSE): 0.3179491424412311\n",
      "Mean Absolute Error (MAE): 0.3706096394550555\n"
     ]
    }
   ],
   "source": [
    "\n",
    "# Make predictions on the training set\n",
    "y_pred_test = regressor_linear.predict(X_test)\n",
    "\n",
    "# Calculate R-squared\n",
    "r2 = r2_score(y_test, y_pred_test)\n",
    "\n",
    "# Calculate adjusted R-squared\n",
    "n = len(y_test)\n",
    "p = X_test.shape[1]\n",
    "adj_r2 = 1 - (1 - r2) * (n - 1) / (n - p - 1)\n",
    "\n",
    "# Calculate mean squared error (MSE)\n",
    "mse = mean_squared_error(y_test, y_pred_test)\n",
    "\n",
    "# Calculate mean absolute error (MAE)\n",
    "mae = mean_absolute_error(y_test, y_pred_test)\n",
    "\n",
    "# Print the evaluation metrics\n",
    "print(\"R-squared:\", r2)\n",
    "print(\"Adjusted R-squared:\", adj_r2)\n",
    "print(\"Mean Squared Error (MSE):\", mse)\n",
    "print(\"Mean Absolute Error (MAE):\", mae)"
   ]
  },
  {
   "cell_type": "code",
   "execution_count": 227,
   "id": "e4d76ae0",
   "metadata": {},
   "outputs": [],
   "source": [
    "residuals_test = y_test - y_pred_test"
   ]
  },
  {
   "cell_type": "code",
   "execution_count": 228,
   "id": "45f06019",
   "metadata": {},
   "outputs": [
    {
     "data": {
      "image/png": "[encoded data removed]",
      "text/plain": [
       "<Figure size 576x432 with 1 Axes>"
      ]
     },
     "metadata": {},
     "output_type": "display_data"
    }
   ],
   "source": [
    "# Plot the actual vs predicted values on the test set\n",
    "plt.figure(figsize=(8, 6))\n",
    "plt.scatter(y_test, y_pred_test, alpha=0.6)\n",
    "\n",
    "# Add a diagonal line for reference\n",
    "max_value = max(y_test.max(), y_pred_test.max())\n",
    "plt.plot([0, max_value], [0, max_value], color='red', linestyle='--')\n",
    "\n",
    "# Add error bars on the test set\n",
    "plt.errorbar(y_test, y_pred_test, yerr=residuals_test, fmt='o', alpha=0.6)\n",
    "\n",
    "# Set axis labels and title\n",
    "plt.xlabel(\"Actual Values (Test Set)\")\n",
    "plt.ylabel(\"Predicted Values (Test Set)\")\n",
    "plt.title(\"Actual vs Predicted (Test Set)\")\n",
    "\n",
    "# Show the plot\n",
    "plt.show()"
   ]
  },
  {
   "cell_type": "code",
   "execution_count": 229,
   "id": "ae6ec836",
   "metadata": {},
   "outputs": [
    {
     "name": "stdout",
     "output_type": "stream",
     "text": [
      "Model Performance on Test Set:\n",
      "R-squared: 0.7145356971752794\n",
      "Adjusted R-squared: 0.692932993177733\n",
      "Mean Squared Error (MSE): 0.3179491424412311\n",
      "Mean Absolute Error (MAE): 0.3706096394550555\n"
     ]
    }
   ],
   "source": [
    "# Calculate R-squared\n",
    "r2 = r2_score(y_test, y_pred_test)\n",
    "\n",
    "# Calculate adjusted R-squared\n",
    "n = len(y_test)\n",
    "p = X_test.shape[1]\n",
    "adj_r2 = 1 - (1 - r2) * (n - 1) / (n - p - 1)\n",
    "\n",
    "# Calculate mean squared error (MSE)\n",
    "mse = mean_squared_error(y_test, y_pred_test)\n",
    "\n",
    "# Calculate mean absolute error (MAE)\n",
    "mae = mean_absolute_error(y_test, y_pred_test)\n",
    "\n",
    "# Print the evaluation metrics\n",
    "print(\"Model Performance on Test Set:\")\n",
    "print(\"R-squared:\", r2)\n",
    "print(\"Adjusted R-squared:\", adj_r2)\n",
    "print(\"Mean Squared Error (MSE):\", mse)\n",
    "print(\"Mean Absolute Error (MAE):\", mae)\n"
   ]
  },
  {
   "cell_type": "markdown",
   "id": "10f90ba9",
   "metadata": {},
   "source": [
    "Model Performance on Test Set:\n",
    "R-squared: 0.715\n",
    "Adjusted R-squared: 0.693\n",
    "Mean Squared Error (MSE): 0.318\n",
    "Mean Absolute Error (MAE): 0.371\n",
    "\n",
    "Model Performance on Training Set:\n",
    "R-squared: 0.755\n",
    "Adjusted R-squared: 0.751\n",
    "Mean Squared Error (MSE): 0.236\n",
    "Mean Absolute Error (MAE): 0.343\n",
    "\n",
    "The R-squared value represents the proportion of the variance in the target variable that can be explained by the model. In the case of the test set, the R-squared is 0.715, indicating that approximately 71.5% of the variance in the target variable can be explained by the features in the model.\n",
    "\n",
    "The Adjusted R-squared takes into account the number of features and the sample size to provide a more conservative estimate of the model's performance. The Adjusted R-squared for the test set is 0.693, which considers the complexity of the model and penalizes overfitting.\n",
    "\n",
    "The Mean Squared Error (MSE) represents the average of the squared differences between the predicted and actual values. A lower MSE indicates better model performance. In this case, the MSE on the test set is 0.318.\n",
    "\n",
    "The Mean Absolute Error (MAE) represents the average of the absolute differences between the predicted and actual values. It provides a measure of the average magnitude of the errors. A lower MAE indicates better model performance. In this case, the MAE on the test set is 0.371.\n",
    "\n",
    "Overall, the model shows reasonably good performance on both the training and test sets. It explains a significant portion of the variance in the target variable, as indicated by the R-squared values. The mean squared error and mean absolute error are relatively low, suggesting that the model's predictions are close to the actual values. However, it's important to interpret these results in the context of the specific problem and domain knowledge.\n",
    "\n",
    "\n",
    "Cinama and age, and DIS.. have higher p-values and rest have p values cost to zero, passing the null hypotesis test and their t-stat is hight that 1.96 (comment on this)"
   ]
  },
  {
   "cell_type": "code",
   "execution_count": 46,
   "id": "e4db8103",
   "metadata": {},
   "outputs": [],
   "source": [
    "from sklearn.metrics import accuracy_score, confusion_matrix"
   ]
  },
  {
   "cell_type": "code",
   "execution_count": 45,
   "id": "f7fe27f2",
   "metadata": {},
   "outputs": [],
   "source": [
    "y_test_classification = [1 if price > normalised_threshold else 0 for price in y_test]"
   ]
  },
  {
   "cell_type": "code",
   "execution_count": null,
   "id": "e0085c2d",
   "metadata": {},
   "outputs": [],
   "source": [
    "y_pred_test_classification = [1 if price > normalised_threshold else 0 for price in y_pred_test]\n",
    "y_test_classification = [1 if price > normalised_threshold else 0 for price in y_test]\n",
    "\n",
    "# Calculate classification accuracy\n",
    "accuracy = accuracy_score(y_test_classification, y_pred_test_classification)\n",
    "\n",
    "# Create a confusion matrix\n",
    "confusion_mat = confusion_matrix(y_test_classification, y_pred_test_classification)\n",
    "\n",
    "# Print the classification accuracy and confusion matrix\n",
    "print(\"Classification Accuracy:\", accuracy)\n",
    "print(\"Confusion Matrix:\")\n",
    "print(confusion_mat)"
   ]
  },
  {
   "cell_type": "code",
   "execution_count": 258,
   "id": "b0a9ce86",
   "metadata": {},
   "outputs": [
    {
     "data": {
      "text/plain": [
       "Text(0.5, 21.5, 'Predicted label')"
      ]
     },
     "execution_count": 258,
     "metadata": {},
     "output_type": "execute_result"
    },
    {
     "data": {
      "image/png": "[encoded data removed]",
      "text/plain": [
       "<Figure size 360x360 with 2 Axes>"
      ]
     },
     "metadata": {
      "needs_background": "light"
     },
     "output_type": "display_data"
    }
   ],
   "source": [
    "%matplotlib inline\n",
    "plt.figure(figsize=(5, 5))\n",
    "sns.heatmap(confusion_mat, annot=True, fmt=\"d\")\n",
    "plt.title('Confusion matrix for {}'.format('Linear regression threshold classification on Testing Set'))\n",
    "plt.ylabel('Actual label')\n",
    "plt.xlabel('Predicted label')"
   ]
  },
  {
   "cell_type": "code",
   "execution_count": null,
   "id": "f5fea4a1",
   "metadata": {},
   "outputs": [],
   "source": []
  },
  {
   "cell_type": "code",
   "execution_count": 255,
   "id": "56ca9a64",
   "metadata": {},
   "outputs": [
    {
     "data": {
      "text/plain": [
       "132"
      ]
     },
     "execution_count": 255,
     "metadata": {},
     "output_type": "execute_result"
    }
   ],
   "source": [
    "(np.array(y_test_classification)=='low').sum()"
   ]
  },
  {
   "cell_type": "code",
   "execution_count": 264,
   "id": "713a5fe7",
   "metadata": {},
   "outputs": [
    {
     "name": "stdout",
     "output_type": "stream",
     "text": [
      "Accuracy: 0.825\n",
      "Precision: 0.7088607594936709\n",
      "Recall: 0.8235294117647058\n",
      "F1 Score: 0.761904761904762\n",
      "ROC AUC Score: 0.8246434937611408\n",
      "Matthews Correlation Coefficient: 0.6291756266483216\n"
     ]
    }
   ],
   "source": [
    "from sklearn.metrics import accuracy_score, precision_score, recall_score, f1_score, roc_auc_score, matthews_corrcoef\n",
    "# Calculate accuracy\n",
    "accuracy = accuracy_score(y_test_classification, y_pred_test_classification)\n",
    "\n",
    "# Calculate precision\n",
    "precision = precision_score(y_test_classification, y_pred_test_classification, pos_label=1)\n",
    "\n",
    "# Calculate recall\n",
    "recall = recall_score(y_test_classification, y_pred_test_classification, pos_label=1)\n",
    "\n",
    "# Calculate F1 score\n",
    "f1 = f1_score(y_test_classification, y_pred_test_classification, pos_label=1)\n",
    "\n",
    "# Calculate ROC AUC score\n",
    "roc_auc = roc_auc_score(y_test_classification, np.array(y_pred_test_classification)==1)\n",
    "\n",
    "# Calculate Matthews correlation coefficient\n",
    "mcc = matthews_corrcoef(y_test_classification, y_pred_test_classification)\n",
    "\n",
    "# Print the additional metrics\n",
    "print(\"Accuracy:\", accuracy)\n",
    "print(\"Precision:\", precision)\n",
    "print(\"Recall:\", recall)\n",
    "print(\"F1 Score:\", f1)\n",
    "print(\"ROC AUC Score:\", roc_auc)\n",
    "print(\"Matthews Correlation Coefficient:\", mcc)"
   ]
  },
  {
   "cell_type": "markdown",
   "id": "a37d52e9",
   "metadata": {},
   "source": [
    "Accuracy: 0.825\n",
    "\n",
    "The accuracy score represents the overall correctness of the classification. In this case, the model achieves an accuracy of 82.5%, indicating that approximately 82.5% of the predictions made by the model match the actual labels in the test dataset.\n",
    "Precision: 0.7088607594936709\n",
    "\n",
    "Precision measures the proportion of correctly predicted high median house prices (positive class) out of the total predicted high prices. A precision score of 0.708 implies that out of all the instances predicted as high median house prices, approximately 70.89% of them are correctly classified.\n",
    "Recall: 0.8235294117647058\n",
    "\n",
    "Recall (also known as sensitivity or true positive rate) measures the proportion of correctly predicted high median house prices out of the actual high prices. A recall score of 0.823 suggests that the model captures approximately 82.35% of the actual high median house prices.\n",
    "F1 Score: 0.761904761904762\n",
    "\n",
    "The F1 score is the harmonic mean of precision and recall, providing a balance between the two metrics. An F1 score of 0.762 indicates a trade-off between precision and recall, taking into account both the ability to correctly identify high median house prices and the ability to avoid false positives.\n",
    "ROC AUC Score: 0.8246434937611408\n",
    "\n",
    "The ROC AUC (Receiver Operating Characteristic Area Under Curve) score represents the model's ability to distinguish between high and low median house prices. A score of 0.825 suggests that the model performs well in distinguishing between the two classes, with an area under the ROC curve of approximately 82.46%.\n",
    "Matthews Correlation Coefficient: 0.6291756266483216\n",
    "\n",
    "The Matthews correlation coefficient (MCC) takes into account true positives, true negatives, false positives, and false negatives, providing an overall measure of classification performance. A MCC score of 0.629 indicates a moderate level of agreement between the predicted and actual classifications.\n",
    "Overall, the results suggest that the model has reasonably good performance, with relatively high accuracy, precision, recall, F1 score, and ROC AUC score. However, it's important to consider the specific problem and context to fully interpret the meaning and significance of these metrics."
   ]
  },
  {
   "cell_type": "code",
   "execution_count": 266,
   "id": "1e2a1d2f",
   "metadata": {},
   "outputs": [
    {
     "name": "stdout",
     "output_type": "stream",
     "text": [
      "Collecting xgboost\n",
      "  Downloading xgboost-1.7.6-py3-none-manylinux2014_x86_64.whl (200.3 MB)\n",
      "\u001b[2K     \u001b[38;2;114;156;31m━━━━━━━━━━━━━━━━━━━━━━━━━━━━━━━━━━━━━━━\u001b[0m \u001b[32m200.3/200.3 MB\u001b[0m \u001b[31m7.2 MB/s\u001b[0m eta \u001b[36m0:00:00\u001b[0mm eta \u001b[36m0:00:01\u001b[0m[36m0:00:01\u001b[0m\n",
      "\u001b[?25hRequirement already satisfied: numpy in /users-2/billy/.local/lib/python3.8/site-packages (from xgboost) (1.22.2)\n",
      "Requirement already satisfied: scipy in /users-2/billy/miniconda3/envs/pc_env/lib/python3.8/site-packages (from xgboost) (1.8.0)\n",
      "Installing collected packages: xgboost\n",
      "Successfully installed xgboost-1.7.6\n"
     ]
    }
   ],
   "source": [
    "!pip install xgboost"
   ]
  },
  {
   "cell_type": "code",
   "execution_count": 38,
   "id": "afb7e8f7",
   "metadata": {
    "scrolled": true
   },
   "outputs": [
    {
     "ename": "KeyboardInterrupt",
     "evalue": "",
     "output_type": "error",
     "traceback": [
      "\u001b[0;31m---------------------------------------------------------------------------\u001b[0m",
      "\u001b[0;31mKeyboardInterrupt\u001b[0m                         Traceback (most recent call last)",
      "Input \u001b[0;32mIn [38]\u001b[0m, in \u001b[0;36m<cell line: 8>\u001b[0;34m()\u001b[0m\n\u001b[1;32m      5\u001b[0m regressor_gb \u001b[38;5;241m=\u001b[39m xgb\u001b[38;5;241m.\u001b[39mXGBRegressor()\n\u001b[1;32m      7\u001b[0m \u001b[38;5;66;03m# Fit the model on the training set\u001b[39;00m\n\u001b[0;32m----> 8\u001b[0m \u001b[43mregressor_gb\u001b[49m\u001b[38;5;241;43m.\u001b[39;49m\u001b[43mfit\u001b[49m\u001b[43m(\u001b[49m\u001b[43mX_train\u001b[49m\u001b[43m,\u001b[49m\u001b[43m \u001b[49m\u001b[43my_train\u001b[49m\u001b[43m)\u001b[49m\n",
      "File \u001b[0;32m~/miniconda3/envs/pc_env/lib/python3.8/site-packages/xgboost/core.py:620\u001b[0m, in \u001b[0;36mrequire_keyword_args.<locals>.throw_if.<locals>.inner_f\u001b[0;34m(*args, **kwargs)\u001b[0m\n\u001b[1;32m    618\u001b[0m \u001b[38;5;28;01mfor\u001b[39;00m k, arg \u001b[38;5;129;01min\u001b[39;00m \u001b[38;5;28mzip\u001b[39m(sig\u001b[38;5;241m.\u001b[39mparameters, args):\n\u001b[1;32m    619\u001b[0m     kwargs[k] \u001b[38;5;241m=\u001b[39m arg\n\u001b[0;32m--> 620\u001b[0m \u001b[38;5;28;01mreturn\u001b[39;00m \u001b[43mfunc\u001b[49m\u001b[43m(\u001b[49m\u001b[38;5;241;43m*\u001b[39;49m\u001b[38;5;241;43m*\u001b[39;49m\u001b[43mkwargs\u001b[49m\u001b[43m)\u001b[49m\n",
      "File \u001b[0;32m~/miniconda3/envs/pc_env/lib/python3.8/site-packages/xgboost/sklearn.py:1025\u001b[0m, in \u001b[0;36mXGBModel.fit\u001b[0;34m(self, X, y, sample_weight, base_margin, eval_set, eval_metric, early_stopping_rounds, verbose, xgb_model, sample_weight_eval_set, base_margin_eval_set, feature_weights, callbacks)\u001b[0m\n\u001b[1;32m   1014\u001b[0m     obj \u001b[38;5;241m=\u001b[39m \u001b[38;5;28;01mNone\u001b[39;00m\n\u001b[1;32m   1016\u001b[0m (\n\u001b[1;32m   1017\u001b[0m     model,\n\u001b[1;32m   1018\u001b[0m     metric,\n\u001b[0;32m   (...)\u001b[0m\n\u001b[1;32m   1023\u001b[0m     xgb_model, eval_metric, params, early_stopping_rounds, callbacks\n\u001b[1;32m   1024\u001b[0m )\n\u001b[0;32m-> 1025\u001b[0m \u001b[38;5;28mself\u001b[39m\u001b[38;5;241m.\u001b[39m_Booster \u001b[38;5;241m=\u001b[39m \u001b[43mtrain\u001b[49m\u001b[43m(\u001b[49m\n\u001b[1;32m   1026\u001b[0m \u001b[43m    \u001b[49m\u001b[43mparams\u001b[49m\u001b[43m,\u001b[49m\n\u001b[1;32m   1027\u001b[0m \u001b[43m    \u001b[49m\u001b[43mtrain_dmatrix\u001b[49m\u001b[43m,\u001b[49m\n\u001b[1;32m   1028\u001b[0m \u001b[43m    \u001b[49m\u001b[38;5;28;43mself\u001b[39;49m\u001b[38;5;241;43m.\u001b[39;49m\u001b[43mget_num_boosting_rounds\u001b[49m\u001b[43m(\u001b[49m\u001b[43m)\u001b[49m\u001b[43m,\u001b[49m\n\u001b[1;32m   1029\u001b[0m \u001b[43m    \u001b[49m\u001b[43mevals\u001b[49m\u001b[38;5;241;43m=\u001b[39;49m\u001b[43mevals\u001b[49m\u001b[43m,\u001b[49m\n\u001b[1;32m   1030\u001b[0m \u001b[43m    \u001b[49m\u001b[43mearly_stopping_rounds\u001b[49m\u001b[38;5;241;43m=\u001b[39;49m\u001b[43mearly_stopping_rounds\u001b[49m\u001b[43m,\u001b[49m\n\u001b[1;32m   1031\u001b[0m \u001b[43m    \u001b[49m\u001b[43mevals_result\u001b[49m\u001b[38;5;241;43m=\u001b[39;49m\u001b[43mevals_result\u001b[49m\u001b[43m,\u001b[49m\n\u001b[1;32m   1032\u001b[0m \u001b[43m    \u001b[49m\u001b[43mobj\u001b[49m\u001b[38;5;241;43m=\u001b[39;49m\u001b[43mobj\u001b[49m\u001b[43m,\u001b[49m\n\u001b[1;32m   1033\u001b[0m \u001b[43m    \u001b[49m\u001b[43mcustom_metric\u001b[49m\u001b[38;5;241;43m=\u001b[39;49m\u001b[43mmetric\u001b[49m\u001b[43m,\u001b[49m\n\u001b[1;32m   1034\u001b[0m \u001b[43m    \u001b[49m\u001b[43mverbose_eval\u001b[49m\u001b[38;5;241;43m=\u001b[39;49m\u001b[43mverbose\u001b[49m\u001b[43m,\u001b[49m\n\u001b[1;32m   1035\u001b[0m \u001b[43m    \u001b[49m\u001b[43mxgb_model\u001b[49m\u001b[38;5;241;43m=\u001b[39;49m\u001b[43mmodel\u001b[49m\u001b[43m,\u001b[49m\n\u001b[1;32m   1036\u001b[0m \u001b[43m    \u001b[49m\u001b[43mcallbacks\u001b[49m\u001b[38;5;241;43m=\u001b[39;49m\u001b[43mcallbacks\u001b[49m\u001b[43m,\u001b[49m\n\u001b[1;32m   1037\u001b[0m \u001b[43m\u001b[49m\u001b[43m)\u001b[49m\n\u001b[1;32m   1039\u001b[0m \u001b[38;5;28mself\u001b[39m\u001b[38;5;241m.\u001b[39m_set_evaluation_result(evals_result)\n\u001b[1;32m   1040\u001b[0m \u001b[38;5;28;01mreturn\u001b[39;00m \u001b[38;5;28mself\u001b[39m\n",
      "File \u001b[0;32m~/miniconda3/envs/pc_env/lib/python3.8/site-packages/xgboost/core.py:620\u001b[0m, in \u001b[0;36mrequire_keyword_args.<locals>.throw_if.<locals>.inner_f\u001b[0;34m(*args, **kwargs)\u001b[0m\n\u001b[1;32m    618\u001b[0m \u001b[38;5;28;01mfor\u001b[39;00m k, arg \u001b[38;5;129;01min\u001b[39;00m \u001b[38;5;28mzip\u001b[39m(sig\u001b[38;5;241m.\u001b[39mparameters, args):\n\u001b[1;32m    619\u001b[0m     kwargs[k] \u001b[38;5;241m=\u001b[39m arg\n\u001b[0;32m--> 620\u001b[0m \u001b[38;5;28;01mreturn\u001b[39;00m \u001b[43mfunc\u001b[49m\u001b[43m(\u001b[49m\u001b[38;5;241;43m*\u001b[39;49m\u001b[38;5;241;43m*\u001b[39;49m\u001b[43mkwargs\u001b[49m\u001b[43m)\u001b[49m\n",
      "File \u001b[0;32m~/miniconda3/envs/pc_env/lib/python3.8/site-packages/xgboost/training.py:185\u001b[0m, in \u001b[0;36mtrain\u001b[0;34m(params, dtrain, num_boost_round, evals, obj, feval, maximize, early_stopping_rounds, evals_result, verbose_eval, xgb_model, callbacks, custom_metric)\u001b[0m\n\u001b[1;32m    183\u001b[0m \u001b[38;5;28;01mif\u001b[39;00m cb_container\u001b[38;5;241m.\u001b[39mbefore_iteration(bst, i, dtrain, evals):\n\u001b[1;32m    184\u001b[0m     \u001b[38;5;28;01mbreak\u001b[39;00m\n\u001b[0;32m--> 185\u001b[0m \u001b[43mbst\u001b[49m\u001b[38;5;241;43m.\u001b[39;49m\u001b[43mupdate\u001b[49m\u001b[43m(\u001b[49m\u001b[43mdtrain\u001b[49m\u001b[43m,\u001b[49m\u001b[43m \u001b[49m\u001b[43mi\u001b[49m\u001b[43m,\u001b[49m\u001b[43m \u001b[49m\u001b[43mobj\u001b[49m\u001b[43m)\u001b[49m\n\u001b[1;32m    186\u001b[0m \u001b[38;5;28;01mif\u001b[39;00m cb_container\u001b[38;5;241m.\u001b[39mafter_iteration(bst, i, dtrain, evals):\n\u001b[1;32m    187\u001b[0m     \u001b[38;5;28;01mbreak\u001b[39;00m\n",
      "File \u001b[0;32m~/miniconda3/envs/pc_env/lib/python3.8/site-packages/xgboost/core.py:1918\u001b[0m, in \u001b[0;36mBooster.update\u001b[0;34m(self, dtrain, iteration, fobj)\u001b[0m\n\u001b[1;32m   1915\u001b[0m \u001b[38;5;28mself\u001b[39m\u001b[38;5;241m.\u001b[39m_validate_dmatrix_features(dtrain)\n\u001b[1;32m   1917\u001b[0m \u001b[38;5;28;01mif\u001b[39;00m fobj \u001b[38;5;129;01mis\u001b[39;00m \u001b[38;5;28;01mNone\u001b[39;00m:\n\u001b[0;32m-> 1918\u001b[0m     _check_call(\u001b[43m_LIB\u001b[49m\u001b[38;5;241;43m.\u001b[39;49m\u001b[43mXGBoosterUpdateOneIter\u001b[49m\u001b[43m(\u001b[49m\u001b[38;5;28;43mself\u001b[39;49m\u001b[38;5;241;43m.\u001b[39;49m\u001b[43mhandle\u001b[49m\u001b[43m,\u001b[49m\n\u001b[1;32m   1919\u001b[0m \u001b[43m                                            \u001b[49m\u001b[43mctypes\u001b[49m\u001b[38;5;241;43m.\u001b[39;49m\u001b[43mc_int\u001b[49m\u001b[43m(\u001b[49m\u001b[43miteration\u001b[49m\u001b[43m)\u001b[49m\u001b[43m,\u001b[49m\n\u001b[1;32m   1920\u001b[0m \u001b[43m                                            \u001b[49m\u001b[43mdtrain\u001b[49m\u001b[38;5;241;43m.\u001b[39;49m\u001b[43mhandle\u001b[49m\u001b[43m)\u001b[49m)\n\u001b[1;32m   1921\u001b[0m \u001b[38;5;28;01melse\u001b[39;00m:\n\u001b[1;32m   1922\u001b[0m     pred \u001b[38;5;241m=\u001b[39m \u001b[38;5;28mself\u001b[39m\u001b[38;5;241m.\u001b[39mpredict(dtrain, output_margin\u001b[38;5;241m=\u001b[39m\u001b[38;5;28;01mTrue\u001b[39;00m, training\u001b[38;5;241m=\u001b[39m\u001b[38;5;28;01mTrue\u001b[39;00m)\n",
      "\u001b[0;31mKeyboardInterrupt\u001b[0m: "
     ]
    }
   ],
   "source": [
    "import xgboost as xgb\n",
    "from sklearn.metrics import mean_squared_error, r2_score\n",
    "\n",
    "# Create the XGBoost regression model\n",
    "regressor_gb = xgb.XGBRegressor()\n",
    "\n",
    "# Fit the model on the training set\n",
    "regressor_gb.fit(X_train, y_train)\n",
    "\n",
    "\n",
    "\n"
   ]
  },
  {
   "cell_type": "code",
   "execution_count": null,
   "id": "3730cad1",
   "metadata": {},
   "outputs": [],
   "source": [
    "# Make predictions on the test set\n",
    "y_pred_test_regression = regressor_gb.predict(X_test)\n",
    "# Evaluate the regression model\n",
    "mse = mean_squared_error(y_test, y_pred_test_regression)\n",
    "r2 = r2_score(y_test, y_pred_test_regression)\n",
    "\n",
    "# Print the evaluation metrics\n",
    "print(\"Mean Squared Error (MSE):\", mse)\n",
    "print(\"R-squared (R2) Score:\", r2)"
   ]
  },
  {
   "cell_type": "code",
   "execution_count": null,
   "id": "010205eb",
   "metadata": {},
   "outputs": [],
   "source": []
  },
  {
   "cell_type": "code",
   "execution_count": 285,
   "id": "af700bc2",
   "metadata": {},
   "outputs": [
    {
     "name": "stdout",
     "output_type": "stream",
     "text": [
      "Feature Importance for XGBoost Regression:\n",
      "CRIM: 0.07407338172197342\n",
      "ZN: 0.02619035914540291\n",
      "INDUS: 0.03370214253664017\n",
      "CHAS: 0.025906402617692947\n",
      "NOX: 0.183244988322258\n",
      "RM: 0.33559316396713257\n",
      "AGE: 0.011268501169979572\n",
      "DIS: 0.010388582944869995\n",
      "RAD: 0.05097266659140587\n",
      "TAX: 0.06261877715587616\n",
      "PTRATIO: 0.04755498841404915\n",
      "PARK: 0.045678429305553436\n",
      "POOL: 0.07607703655958176\n",
      "CINEMA: 0.016730576753616333\n"
     ]
    }
   ],
   "source": [
    "# Get feature importance\n",
    "feature_importance = regressor_gb.feature_importances_\n",
    "\n",
    "# Print feature importance\n",
    "print(\"Feature Importance for XGBoost Regression:\")\n",
    "for feature, importance in zip(X.columns, feature_importance):\n",
    "    print(f\"{feature}: {importance}\")"
   ]
  },
  {
   "cell_type": "code",
   "execution_count": 286,
   "id": "c19da209",
   "metadata": {},
   "outputs": [
    {
     "data": {
      "image/png": "[encoded data removed]",
      "text/plain": [
       "<Figure size 720x432 with 1 Axes>"
      ]
     },
     "metadata": {
      "needs_background": "light"
     },
     "output_type": "display_data"
    }
   ],
   "source": [
    "feature_importance_reg = regressor_gb.feature_importances_\n",
    "\n",
    "# Create a DataFrame for feature importance\n",
    "feature_importance_df_reg = pd.DataFrame({'Feature': X.columns, 'Importance': feature_importance_reg})\n",
    "\n",
    "# Sort the DataFrame by importance score\n",
    "feature_importance_df_reg = feature_importance_df_reg.sort_values('Importance', ascending=False)\n",
    "\n",
    "# Plot feature importance for regression\n",
    "plt.figure(figsize=(10, 6))\n",
    "sns.barplot(x='Importance', y='Feature', data=feature_importance_df_reg)\n",
    "plt.title('Feature Importance - XGBoost Regression')\n",
    "plt.xlabel('Importance')\n",
    "plt.ylabel('Feature')\n",
    "plt.show()"
   ]
  },
  {
   "cell_type": "code",
   "execution_count": null,
   "id": "70200ab6",
   "metadata": {},
   "outputs": [],
   "source": []
  },
  {
   "cell_type": "code",
   "execution_count": 40,
   "id": "4e68b849",
   "metadata": {
    "scrolled": true
   },
   "outputs": [],
   "source": [
    "y_train_classification = [1 if price > normalised_threshold else 0 for price in y_train]\n",
    "# Create the XGBoost classifier model\n",
    "params = {'learning_rate': 0.05, 'max_depth': 5, 'max_features': 'sqrt', 'min_samples_leaf': 4, 'min_samples_split': 2, 'n_estimators': 300, 'random_state': 42}\n",
    "classifier_gb = xgb.XGBClassifier(gpu_id=3, ** params)\n",
    "\n"
   ]
  },
  {
   "cell_type": "code",
   "execution_count": 41,
   "id": "f5a84658",
   "metadata": {},
   "outputs": [
    {
     "name": "stdout",
     "output_type": "stream",
     "text": [
      "[04:06:03] WARNING: ../src/learner.cc:767: \n",
      "Parameters: { \"max_features\", \"min_samples_leaf\", \"min_samples_split\" } are not used.\n",
      "\n"
     ]
    },
    {
     "data": {
      "text/html": [
       "<style>#sk-container-id-2 {color: black;background-color: white;}#sk-container-id-2 pre{padding: 0;}#sk-container-id-2 div.sk-toggleable {background-color: white;}#sk-container-id-2 label.sk-toggleable__label {cursor: pointer;display: block;width: 100%;margin-bottom: 0;padding: 0.3em;box-sizing: border-box;text-align: center;}#sk-container-id-2 label.sk-toggleable__label-arrow:before {content: \"▸\";float: left;margin-right: 0.25em;color: #696969;}#sk-container-id-2 label.sk-toggleable__label-arrow:hover:before {color: black;}#sk-container-id-2 div.sk-estimator:hover label.sk-toggleable__label-arrow:before {color: black;}#sk-container-id-2 div.sk-toggleable__content {max-height: 0;max-width: 0;overflow: hidden;text-align: left;background-color: #f0f8ff;}#sk-container-id-2 div.sk-toggleable__content pre {margin: 0.2em;color: black;border-radius: 0.25em;background-color: #f0f8ff;}#sk-container-id-2 input.sk-toggleable__control:checked~div.sk-toggleable__content {max-height: 200px;max-width: 100%;overflow: auto;}#sk-container-id-2 input.sk-toggleable__control:checked~label.sk-toggleable__label-arrow:before {content: \"▾\";}#sk-container-id-2 div.sk-estimator input.sk-toggleable__control:checked~label.sk-toggleable__label {background-color: #d4ebff;}#sk-container-id-2 div.sk-label input.sk-toggleable__control:checked~label.sk-toggleable__label {background-color: #d4ebff;}#sk-container-id-2 input.sk-hidden--visually {border: 0;clip: rect(1px 1px 1px 1px);clip: rect(1px, 1px, 1px, 1px);height: 1px;margin: -1px;overflow: hidden;padding: 0;position: absolute;width: 1px;}#sk-container-id-2 div.sk-estimator {font-family: monospace;background-color: #f0f8ff;border: 1px dotted black;border-radius: 0.25em;box-sizing: border-box;margin-bottom: 0.5em;}#sk-container-id-2 div.sk-estimator:hover {background-color: #d4ebff;}#sk-container-id-2 div.sk-parallel-item::after {content: \"\";width: 100%;border-bottom: 1px solid gray;flex-grow: 1;}#sk-container-id-2 div.sk-label:hover label.sk-toggleable__label {background-color: #d4ebff;}#sk-container-id-2 div.sk-serial::before {content: \"\";position: absolute;border-left: 1px solid gray;box-sizing: border-box;top: 0;bottom: 0;left: 50%;z-index: 0;}#sk-container-id-2 div.sk-serial {display: flex;flex-direction: column;align-items: center;background-color: white;padding-right: 0.2em;padding-left: 0.2em;position: relative;}#sk-container-id-2 div.sk-item {position: relative;z-index: 1;}#sk-container-id-2 div.sk-parallel {display: flex;align-items: stretch;justify-content: center;background-color: white;position: relative;}#sk-container-id-2 div.sk-item::before, #sk-container-id-2 div.sk-parallel-item::before {content: \"\";position: absolute;border-left: 1px solid gray;box-sizing: border-box;top: 0;bottom: 0;left: 50%;z-index: -1;}#sk-container-id-2 div.sk-parallel-item {display: flex;flex-direction: column;z-index: 1;position: relative;background-color: white;}#sk-container-id-2 div.sk-parallel-item:first-child::after {align-self: flex-end;width: 50%;}#sk-container-id-2 div.sk-parallel-item:last-child::after {align-self: flex-start;width: 50%;}#sk-container-id-2 div.sk-parallel-item:only-child::after {width: 0;}#sk-container-id-2 div.sk-dashed-wrapped {border: 1px dashed gray;margin: 0 0.4em 0.5em 0.4em;box-sizing: border-box;padding-bottom: 0.4em;background-color: white;}#sk-container-id-2 div.sk-label label {font-family: monospace;font-weight: bold;display: inline-block;line-height: 1.2em;}#sk-container-id-2 div.sk-label-container {text-align: center;}#sk-container-id-2 div.sk-container {/* jupyter's `normalize.less` sets `[hidden] { display: none; }` but bootstrap.min.css set `[hidden] { display: none !important; }` so we also need the `!important` here to be able to override the default hidden behavior on the sphinx rendered scikit-learn.org. See: https://github.com/scikit-learn/scikit-learn/issues/21755 */display: inline-block !important;position: relative;}#sk-container-id-2 div.sk-text-repr-fallback {display: none;}</style><div id=\"sk-container-id-2\" class=\"sk-top-container\"><div class=\"sk-text-repr-fallback\"><pre>XGBClassifier(base_score=None, booster=None, callbacks=None,\n",
       "              colsample_bylevel=None, colsample_bynode=None,\n",
       "              colsample_bytree=None, early_stopping_rounds=None,\n",
       "              enable_categorical=False, eval_metric=None, feature_types=None,\n",
       "              gamma=None, gpu_id=3, grow_policy=None, importance_type=None,\n",
       "              interaction_constraints=None, learning_rate=0.05, max_bin=None,\n",
       "              max_cat_threshold=None, max_cat_to_onehot=None,\n",
       "              max_delta_step=None, max_depth=5, max_features=&#x27;sqrt&#x27;,\n",
       "              max_leaves=None, min_child_weight=None, min_samples_leaf=4,\n",
       "              min_samples_split=2, missing=nan, monotone_constraints=None,\n",
       "              n_estimators=300, n_jobs=None, ...)</pre><b>In a Jupyter environment, please rerun this cell to show the HTML representation or trust the notebook. <br />On GitHub, the HTML representation is unable to render, please try loading this page with nbviewer.org.</b></div><div class=\"sk-container\" hidden><div class=\"sk-item\"><div class=\"sk-estimator sk-toggleable\"><input class=\"sk-toggleable__control sk-hidden--visually\" id=\"sk-estimator-id-2\" type=\"checkbox\" checked><label for=\"sk-estimator-id-2\" class=\"sk-toggleable__label sk-toggleable__label-arrow\">XGBClassifier</label><div class=\"sk-toggleable__content\"><pre>XGBClassifier(base_score=None, booster=None, callbacks=None,\n",
       "              colsample_bylevel=None, colsample_bynode=None,\n",
       "              colsample_bytree=None, early_stopping_rounds=None,\n",
       "              enable_categorical=False, eval_metric=None, feature_types=None,\n",
       "              gamma=None, gpu_id=3, grow_policy=None, importance_type=None,\n",
       "              interaction_constraints=None, learning_rate=0.05, max_bin=None,\n",
       "              max_cat_threshold=None, max_cat_to_onehot=None,\n",
       "              max_delta_step=None, max_depth=5, max_features=&#x27;sqrt&#x27;,\n",
       "              max_leaves=None, min_child_weight=None, min_samples_leaf=4,\n",
       "              min_samples_split=2, missing=nan, monotone_constraints=None,\n",
       "              n_estimators=300, n_jobs=None, ...)</pre></div></div></div></div></div>"
      ],
      "text/plain": [
       "XGBClassifier(base_score=None, booster=None, callbacks=None,\n",
       "              colsample_bylevel=None, colsample_bynode=None,\n",
       "              colsample_bytree=None, early_stopping_rounds=None,\n",
       "              enable_categorical=False, eval_metric=None, feature_types=None,\n",
       "              gamma=None, gpu_id=3, grow_policy=None, importance_type=None,\n",
       "              interaction_constraints=None, learning_rate=0.05, max_bin=None,\n",
       "              max_cat_threshold=None, max_cat_to_onehot=None,\n",
       "              max_delta_step=None, max_depth=5, max_features='sqrt',\n",
       "              max_leaves=None, min_child_weight=None, min_samples_leaf=4,\n",
       "              min_samples_split=2, missing=nan, monotone_constraints=None,\n",
       "              n_estimators=300, n_jobs=None, ...)"
      ]
     },
     "execution_count": 41,
     "metadata": {},
     "output_type": "execute_result"
    }
   ],
   "source": [
    "# Fit the model on the training set\n",
    "classifier_gb.fit(X_train, y_train_classification)"
   ]
  },
  {
   "cell_type": "code",
   "execution_count": 281,
   "id": "61d6259b",
   "metadata": {},
   "outputs": [],
   "source": [
    "# y_pred_test_classification = [1 if price > normalised_threshold else 0 for price in y_pred_test_regression] # using the regressor "
   ]
  },
  {
   "cell_type": "code",
   "execution_count": 282,
   "id": "70d5218d",
   "metadata": {},
   "outputs": [
    {
     "name": "stdout",
     "output_type": "stream",
     "text": [
      "Accuracy: 0.83\n",
      "Precision: 0.7361111111111112\n",
      "Recall: 0.7794117647058824\n",
      "F1 Score: 0.7571428571428572\n"
     ]
    }
   ],
   "source": [
    "\n",
    "# Make predictions on the test set\n",
    "y_pred_test_classification = classifier_gb.predict(X_test)\n",
    "# Evaluate the classifier model\n",
    "accuracy = accuracy_score(y_test_classification, y_pred_test_classification)\n",
    "precision = precision_score(y_test_classification, y_pred_test_classification, pos_label=1)\n",
    "recall = recall_score(y_test_classification, y_pred_test_classification, pos_label=1)\n",
    "f1 = f1_score(y_test_classification, y_pred_test_classification, pos_label=1)\n",
    "\n",
    "# Print the evaluation metrics\n",
    "print(\"Accuracy:\", accuracy)\n",
    "print(\"Precision:\", precision)\n",
    "print(\"Recall:\", recall)\n",
    "print(\"F1 Score:\", f1)"
   ]
  },
  {
   "cell_type": "code",
   "execution_count": null,
   "id": "f96f3001",
   "metadata": {},
   "outputs": [],
   "source": []
  },
  {
   "cell_type": "code",
   "execution_count": 283,
   "id": "1a89342e",
   "metadata": {},
   "outputs": [
    {
     "name": "stdout",
     "output_type": "stream",
     "text": [
      "Classification Accuracy: 0.83\n",
      "Confusion Matrix:\n",
      "[[113  19]\n",
      " [ 15  53]]\n"
     ]
    }
   ],
   "source": [
    "# Calculate classification accuracy\n",
    "accuracy = accuracy_score(y_test_classification, y_pred_test_classification)\n",
    "\n",
    "# Create a confusion matrix\n",
    "confusion_mat = confusion_matrix(y_test_classification, y_pred_test_classification)\n",
    "\n",
    "# Print the classification accuracy and confusion matrix\n",
    "print(\"Classification Accuracy:\", accuracy)\n",
    "print(\"Confusion Matrix:\")\n",
    "print(confusion_mat)"
   ]
  },
  {
   "cell_type": "code",
   "execution_count": 284,
   "id": "1e96ea16",
   "metadata": {},
   "outputs": [
    {
     "data": {
      "text/plain": [
       "Text(0.5, 21.5, 'Predicted label')"
      ]
     },
     "execution_count": 284,
     "metadata": {},
     "output_type": "execute_result"
    },
    {
     "data": {
      "image/png": "[encoded data removed]",
      "text/plain": [
       "<Figure size 360x360 with 2 Axes>"
      ]
     },
     "metadata": {
      "needs_background": "light"
     },
     "output_type": "display_data"
    }
   ],
   "source": [
    "%matplotlib inline\n",
    "plt.figure(figsize=(5, 5))\n",
    "sns.heatmap(confusion_mat, annot=True, fmt=\"d\")\n",
    "plt.title('Confusion matrix for {}'.format(' Testing Set'))\n",
    "plt.ylabel('Actual label')\n",
    "plt.xlabel('Predicted label')"
   ]
  },
  {
   "cell_type": "code",
   "execution_count": 287,
   "id": "a3762f1e",
   "metadata": {},
   "outputs": [
    {
     "data": {
      "image/png": "[encoded data removed]",
      "text/plain": [
       "<Figure size 720x432 with 1 Axes>"
      ]
     },
     "metadata": {
      "needs_background": "light"
     },
     "output_type": "display_data"
    }
   ],
   "source": [
    "# Get feature importance\n",
    "feature_importance_clf = classifier_gb.feature_importances_\n",
    "\n",
    "# Create a DataFrame for feature importance\n",
    "feature_importance_df_clf = pd.DataFrame({'Feature': X.columns, 'Importance': feature_importance_clf})\n",
    "\n",
    "# Sort the DataFrame by importance score\n",
    "feature_importance_df_clf = feature_importance_df_clf.sort_values('Importance', ascending=False)\n",
    "\n",
    "# Plot feature importance for classification\n",
    "plt.figure(figsize=(10, 6))\n",
    "sns.barplot(x='Importance', y='Feature', data=feature_importance_df_clf)\n",
    "plt.title('Feature Importance - XGBoost Classifier')\n",
    "plt.xlabel('Importance')\n",
    "plt.ylabel('Feature')\n",
    "plt.show()"
   ]
  },
  {
   "cell_type": "code",
   "execution_count": 289,
   "id": "f6652b7e",
   "metadata": {},
   "outputs": [
    {
     "name": "stdout",
     "output_type": "stream",
     "text": [
      "Accuracy: 0.85\n",
      "Precision: 0.8166666666666667\n",
      "Recall: 0.7205882352941176\n",
      "F1 Score: 0.7656250000000001\n",
      "ROC AUC Score: 0.9163324420677361\n"
     ]
    }
   ],
   "source": [
    "from sklearn.linear_model import LogisticRegression\n",
    "from sklearn.metrics import accuracy_score, precision_score, recall_score, f1_score, roc_auc_score\n",
    "\n",
    "# Create the Logistic Regression classifier model\n",
    "classifier_lr = LogisticRegression()\n",
    "\n",
    "# Fit the model on the training set\n",
    "classifier_lr.fit(X_train, y_train_classification)\n",
    "\n",
    "# Make predictions on the test set\n",
    "y_pred_test_classification = classifier_lr.predict(X_test)\n",
    "\n",
    "# Calculate predicted probabilities for ROC AUC score\n",
    "y_pred_proba_test = classifier_lr.predict_proba(X_test)[:, 1]\n",
    "\n",
    "# Evaluate the classifier model\n",
    "accuracy = accuracy_score(y_test_classification, y_pred_test_classification)\n",
    "precision = precision_score(y_test_classification, y_pred_test_classification, pos_label=1)\n",
    "recall = recall_score(y_test_classification, y_pred_test_classification, pos_label=1)\n",
    "f1 = f1_score(y_test_classification, y_pred_test_classification, pos_label=1)\n",
    "roc_auc = roc_auc_score(y_test_classification, y_pred_proba_test)\n",
    "\n",
    "# Print the evaluation metrics\n",
    "print(\"Accuracy:\", accuracy)\n",
    "print(\"Precision:\", precision)\n",
    "print(\"Recall:\", recall)\n",
    "print(\"F1 Score:\", f1)\n",
    "print(\"ROC AUC Score:\", roc_auc)"
   ]
  },
  {
   "cell_type": "code",
   "execution_count": null,
   "id": "37096a43",
   "metadata": {},
   "outputs": [],
   "source": [
    "from sklearn.metrics import classification_report, confusion_matrix"
   ]
  },
  {
   "cell_type": "code",
   "execution_count": 312,
   "id": "fbbf35ce",
   "metadata": {},
   "outputs": [
    {
     "name": "stdout",
     "output_type": "stream",
     "text": [
      "Accuracy: 0.845\n",
      "Precision: 0.7761194029850746\n",
      "Recall: 0.7647058823529411\n",
      "F1 Score: 0.7703703703703704\n",
      "ROC AUC Score: 0.930926916221034\n"
     ]
    }
   ],
   "source": [
    "from sklearn.linear_model import LogisticRegression\n",
    "from sklearn.metrics import accuracy_score, precision_score, recall_score, f1_score, roc_auc_score\n",
    "from sklearn.preprocessing import StandardScaler\n",
    "\n",
    "# Perform feature scaling\n",
    "scaler = StandardScaler()\n",
    "X_train_scaled = scaler.fit_transform(X_train)\n",
    "X_test_scaled = scaler.transform(X_test)\n",
    "\n",
    "# Create the Logistic Regression classifier model\n",
    "classifier_lr = LogisticRegression(C=1.0, penalty='l1', solver='liblinear')\n",
    "\n",
    "# Fit the model on the scaled training set\n",
    "classifier_lr.fit(X_train_scaled, y_train_classification)\n",
    "\n",
    "# Make predictions on the scaled test set\n",
    "y_pred_test_classification = classifier_lr.predict(X_test_scaled)\n",
    "\n",
    "# Calculate predicted probabilities for ROC AUC score\n",
    "y_pred_proba_test = classifier_lr.predict_proba(X_test_scaled)[:, 1]\n",
    "\n",
    "# Evaluate the classifier model\n",
    "accuracy = accuracy_score(y_test_classification, y_pred_test_classification)\n",
    "precision = precision_score(y_test_classification, y_pred_test_classification)\n",
    "recall = recall_score(y_test_classification, y_pred_test_classification)\n",
    "f1 = f1_score(y_test_classification, y_pred_test_classification)\n",
    "roc_auc = roc_auc_score(y_test_classification, y_pred_proba_test)\n",
    "\n",
    "# Print the evaluation metrics\n",
    "print(\"Accuracy:\", accuracy)\n",
    "print(\"Precision:\", precision)\n",
    "print(\"Recall:\", recall)\n",
    "print(\"F1 Score:\", f1)\n",
    "print(\"ROC AUC Score:\", roc_auc)\n",
    "\n"
   ]
  },
  {
   "cell_type": "code",
   "execution_count": 313,
   "id": "91f13018",
   "metadata": {},
   "outputs": [
    {
     "name": "stdout",
     "output_type": "stream",
     "text": [
      "Feature Importance - Logistic Regression:\n",
      "    Feature  Importance\n",
      "5        RM    1.190806\n",
      "4       NOX    0.950578\n",
      "9       TAX    0.850099\n",
      "8       RAD    0.845548\n",
      "0      CRIM    0.784336\n",
      "11     PARK    0.514101\n",
      "1        ZN    0.426001\n",
      "10  PTRATIO    0.401236\n",
      "12     POOL    0.324386\n",
      "13   CINEMA    0.263278\n",
      "3      CHAS    0.174469\n",
      "6       AGE    0.019474\n",
      "2     INDUS    0.018202\n",
      "7       DIS    0.000000\n"
     ]
    }
   ],
   "source": [
    "# Get the absolute coefficients\n",
    "coefficients = np.abs(classifier_lr.coef_[0])\n",
    "\n",
    "# Create a feature importance DataFrame\n",
    "feature_importance_df = pd.DataFrame({'Feature': X.columns, 'Importance': coefficients})\n",
    "\n",
    "# Sort the DataFrame by importance score in descending order\n",
    "feature_importance_df = feature_importance_df.sort_values('Importance', ascending=False)\n",
    "\n",
    "# Print the feature importance\n",
    "print(\"Feature Importance - Logistic Regression:\")\n",
    "print(feature_importance_df)"
   ]
  },
  {
   "cell_type": "code",
   "execution_count": 316,
   "id": "abf65f4e",
   "metadata": {},
   "outputs": [],
   "source": [
    "from scipy import stats"
   ]
  },
  {
   "cell_type": "code",
   "execution_count": 318,
   "id": "aa8b0c8c",
   "metadata": {},
   "outputs": [
    {
     "name": "stdout",
     "output_type": "stream",
     "text": [
      "Logistic Regression Results:\n",
      "    Feature  Coefficient  T-statistic       P-value\n",
      "0      CRIM    -0.784336    -5.837286  5.305791e-09\n",
      "1        ZN     0.426001     4.517972  6.243488e-06\n",
      "2     INDUS     0.018202     0.169349  8.655225e-01\n",
      "3      CHAS     0.174469     2.364030  1.807735e-02\n",
      "4       NOX    -0.950578    -5.592298  2.240835e-08\n",
      "5        RM     1.190806     5.555761  2.764054e-08\n",
      "6       AGE    -0.019474    -0.244217  8.070630e-01\n",
      "7       DIS     0.000000     0.000000  1.000000e+00\n",
      "8       RAD     0.845548    13.933437  0.000000e+00\n",
      "9       TAX    -0.850099    -9.344205  0.000000e+00\n",
      "10  PTRATIO    -0.401236    -3.540269  3.997187e-04\n",
      "11     PARK     0.514101    12.219672  0.000000e+00\n",
      "12     POOL     0.324386     7.301479  2.846612e-13\n",
      "13   CINEMA    -0.263278    -6.766316  1.321032e-11\n"
     ]
    },
    {
     "name": "stderr",
     "output_type": "stream",
     "text": [
      "/users-2/billy/miniconda3/envs/pc_env/lib/python3.8/site-packages/sklearn/base.py:443: UserWarning: X has feature names, but LogisticRegression was fitted without feature names\n",
      "  warnings.warn(\n"
     ]
    }
   ],
   "source": [
    "# Get the coefficients\n",
    "coefficients = classifier_lr.coef_[0]\n",
    "\n",
    "# Calculate the standard errors\n",
    "X_train_pred = np.hstack([np.ones((X_train.shape[0], 1)), X_train])\n",
    "y_train_pred = classifier_lr.predict(X_train)\n",
    "residuals = y_train_classification - y_train_pred\n",
    "sse = np.sum(residuals ** 2)\n",
    "mse = sse / (X_train_pred.shape[0] - X_train_pred.shape[1])\n",
    "cov_matrix = np.linalg.inv(np.dot(X_train_pred.T, X_train_pred)) * mse\n",
    "standard_errors = np.sqrt(np.diag(cov_matrix)[1:])\n",
    "\n",
    "# Calculate the t-statistics\n",
    "t_stats = coefficients / standard_errors\n",
    "\n",
    "# Calculate the p-values\n",
    "p_values = 2 * (1 - stats.norm.cdf(np.abs(t_stats)))\n",
    "\n",
    "# Create a DataFrame for the coefficients, t-stats, and p-values\n",
    "results_df = pd.DataFrame({'Feature': X.columns, 'Coefficient': coefficients,\n",
    "                           'T-statistic': t_stats, 'P-value': p_values})\n",
    "\n",
    "# Print the results\n",
    "print(\"Logistic Regression Results:\")\n",
    "print(results_df)"
   ]
  },
  {
   "cell_type": "code",
   "execution_count": 311,
   "id": "7fefe91c",
   "metadata": {},
   "outputs": [
    {
     "name": "stdout",
     "output_type": "stream",
     "text": [
      "Evaluation Metrics - Logistic Regression:\n",
      "Accuracy: 0.845\n",
      "Precision: 0.7761194029850746\n",
      "Recall: 0.7647058823529411\n",
      "F1 Score: 0.7703703703703704\n",
      "ROC AUC Score: 0.9310383244206774\n",
      "\n",
      "Classification Report:\n",
      "              precision    recall  f1-score   support\n",
      "\n",
      "           0       0.88      0.89      0.88       132\n",
      "           1       0.78      0.76      0.77        68\n",
      "\n",
      "    accuracy                           0.84       200\n",
      "   macro avg       0.83      0.83      0.83       200\n",
      "weighted avg       0.84      0.84      0.84       200\n",
      "\n",
      "\n",
      "Confusion Matrix:\n",
      "[[117  15]\n",
      " [ 16  52]]\n"
     ]
    }
   ],
   "source": [
    "# Make predictions on the test set\n",
    "# y_pred_test_classification = classifier_lr.predict(X_test)\n",
    "\n",
    "# Calculate predicted probabilities for ROC AUC score\n",
    "y_pred_proba_test = classifier_lr.predict_proba(X_test_scaled)[:, 1]\n",
    "\n",
    "# Evaluate the classifier model\n",
    "accuracy = accuracy_score(y_test_classification, y_pred_test_classification)\n",
    "precision = precision_score(y_test_classification, y_pred_test_classification)\n",
    "recall = recall_score(y_test_classification, y_pred_test_classification)\n",
    "f1 = f1_score(y_test_classification, y_pred_test_classification)\n",
    "roc_auc = roc_auc_score(y_test_classification, y_pred_proba_test)\n",
    "classification_rep = classification_report(y_test_classification, y_pred_test_classification)\n",
    "confusion_mat = confusion_matrix(y_test_classification, y_pred_test_classification)\n",
    "\n",
    "# Print the evaluation metrics and details\n",
    "print(\"Evaluation Metrics - Logistic Regression:\")\n",
    "print(\"Accuracy:\", accuracy)\n",
    "print(\"Precision:\", precision)\n",
    "print(\"Recall:\", recall)\n",
    "print(\"F1 Score:\", f1)\n",
    "print(\"ROC AUC Score:\", roc_auc)\n",
    "print(\"\\nClassification Report:\")\n",
    "print(classification_rep)\n",
    "print(\"\\nConfusion Matrix:\")\n",
    "print(confusion_mat)"
   ]
  },
  {
   "cell_type": "code",
   "execution_count": 308,
   "id": "2216ff90",
   "metadata": {},
   "outputs": [
    {
     "data": {
      "text/plain": [
       "Text(0.5, 21.5, 'Predicted label')"
      ]
     },
     "execution_count": 308,
     "metadata": {},
     "output_type": "execute_result"
    },
    {
     "data": {
      "image/png": "[encoded data removed]",
      "text/plain": [
       "<Figure size 360x360 with 2 Axes>"
      ]
     },
     "metadata": {
      "needs_background": "light"
     },
     "output_type": "display_data"
    }
   ],
   "source": [
    "%matplotlib inline\n",
    "plt.figure(figsize=(5, 5))\n",
    "sns.heatmap(confusion_mat, annot=True, fmt=\"d\")\n",
    "plt.title('Confusion matrix for {}'.format(' Testing Set'))\n",
    "plt.ylabel('Actual label')\n",
    "plt.xlabel('Predicted label')"
   ]
  },
  {
   "cell_type": "code",
   "execution_count": 42,
   "id": "2733856c",
   "metadata": {},
   "outputs": [],
   "source": [
    "from sklearn.ensemble import GradientBoostingClassifier\n",
    "from sklearn.model_selection import GridSearchCV\n",
    "from sklearn.metrics import accuracy_score, precision_score, recall_score, f1_score, roc_auc_score, classification_report\n",
    "\n",
    "# Create the Gradient Boosting Classifier\n",
    "classifier_gb = GradientBoostingClassifier()\n",
    "\n",
    "# Define the parameter grid for GridSearchCV\n",
    "param_grid_gb = {\n",
    "    'n_estimators': [300],\n",
    "    'learning_rate': [0.05],\n",
    "    'max_depth': [5],\n",
    "    'min_samples_split': [2],\n",
    "    'min_samples_leaf': [4],\n",
    "    'max_features': ['sqrt'],\n",
    "    'random_state': [42]\n",
    "}"
   ]
  },
  {
   "cell_type": "code",
   "execution_count": 43,
   "id": "82cd1a6a",
   "metadata": {},
   "outputs": [
    {
     "data": {
      "text/html": [
       "<style>#sk-container-id-3 {color: black;background-color: white;}#sk-container-id-3 pre{padding: 0;}#sk-container-id-3 div.sk-toggleable {background-color: white;}#sk-container-id-3 label.sk-toggleable__label {cursor: pointer;display: block;width: 100%;margin-bottom: 0;padding: 0.3em;box-sizing: border-box;text-align: center;}#sk-container-id-3 label.sk-toggleable__label-arrow:before {content: \"▸\";float: left;margin-right: 0.25em;color: #696969;}#sk-container-id-3 label.sk-toggleable__label-arrow:hover:before {color: black;}#sk-container-id-3 div.sk-estimator:hover label.sk-toggleable__label-arrow:before {color: black;}#sk-container-id-3 div.sk-toggleable__content {max-height: 0;max-width: 0;overflow: hidden;text-align: left;background-color: #f0f8ff;}#sk-container-id-3 div.sk-toggleable__content pre {margin: 0.2em;color: black;border-radius: 0.25em;background-color: #f0f8ff;}#sk-container-id-3 input.sk-toggleable__control:checked~div.sk-toggleable__content {max-height: 200px;max-width: 100%;overflow: auto;}#sk-container-id-3 input.sk-toggleable__control:checked~label.sk-toggleable__label-arrow:before {content: \"▾\";}#sk-container-id-3 div.sk-estimator input.sk-toggleable__control:checked~label.sk-toggleable__label {background-color: #d4ebff;}#sk-container-id-3 div.sk-label input.sk-toggleable__control:checked~label.sk-toggleable__label {background-color: #d4ebff;}#sk-container-id-3 input.sk-hidden--visually {border: 0;clip: rect(1px 1px 1px 1px);clip: rect(1px, 1px, 1px, 1px);height: 1px;margin: -1px;overflow: hidden;padding: 0;position: absolute;width: 1px;}#sk-container-id-3 div.sk-estimator {font-family: monospace;background-color: #f0f8ff;border: 1px dotted black;border-radius: 0.25em;box-sizing: border-box;margin-bottom: 0.5em;}#sk-container-id-3 div.sk-estimator:hover {background-color: #d4ebff;}#sk-container-id-3 div.sk-parallel-item::after {content: \"\";width: 100%;border-bottom: 1px solid gray;flex-grow: 1;}#sk-container-id-3 div.sk-label:hover label.sk-toggleable__label {background-color: #d4ebff;}#sk-container-id-3 div.sk-serial::before {content: \"\";position: absolute;border-left: 1px solid gray;box-sizing: border-box;top: 0;bottom: 0;left: 50%;z-index: 0;}#sk-container-id-3 div.sk-serial {display: flex;flex-direction: column;align-items: center;background-color: white;padding-right: 0.2em;padding-left: 0.2em;position: relative;}#sk-container-id-3 div.sk-item {position: relative;z-index: 1;}#sk-container-id-3 div.sk-parallel {display: flex;align-items: stretch;justify-content: center;background-color: white;position: relative;}#sk-container-id-3 div.sk-item::before, #sk-container-id-3 div.sk-parallel-item::before {content: \"\";position: absolute;border-left: 1px solid gray;box-sizing: border-box;top: 0;bottom: 0;left: 50%;z-index: -1;}#sk-container-id-3 div.sk-parallel-item {display: flex;flex-direction: column;z-index: 1;position: relative;background-color: white;}#sk-container-id-3 div.sk-parallel-item:first-child::after {align-self: flex-end;width: 50%;}#sk-container-id-3 div.sk-parallel-item:last-child::after {align-self: flex-start;width: 50%;}#sk-container-id-3 div.sk-parallel-item:only-child::after {width: 0;}#sk-container-id-3 div.sk-dashed-wrapped {border: 1px dashed gray;margin: 0 0.4em 0.5em 0.4em;box-sizing: border-box;padding-bottom: 0.4em;background-color: white;}#sk-container-id-3 div.sk-label label {font-family: monospace;font-weight: bold;display: inline-block;line-height: 1.2em;}#sk-container-id-3 div.sk-label-container {text-align: center;}#sk-container-id-3 div.sk-container {/* jupyter's `normalize.less` sets `[hidden] { display: none; }` but bootstrap.min.css set `[hidden] { display: none !important; }` so we also need the `!important` here to be able to override the default hidden behavior on the sphinx rendered scikit-learn.org. See: https://github.com/scikit-learn/scikit-learn/issues/21755 */display: inline-block !important;position: relative;}#sk-container-id-3 div.sk-text-repr-fallback {display: none;}</style><div id=\"sk-container-id-3\" class=\"sk-top-container\"><div class=\"sk-text-repr-fallback\"><pre>GridSearchCV(cv=5, estimator=GradientBoostingClassifier(),\n",
       "             param_grid={&#x27;learning_rate&#x27;: [0.05], &#x27;max_depth&#x27;: [5],\n",
       "                         &#x27;max_features&#x27;: [&#x27;sqrt&#x27;], &#x27;min_samples_leaf&#x27;: [4],\n",
       "                         &#x27;min_samples_split&#x27;: [2], &#x27;n_estimators&#x27;: [300],\n",
       "                         &#x27;random_state&#x27;: [42]},\n",
       "             scoring=&#x27;accuracy&#x27;)</pre><b>In a Jupyter environment, please rerun this cell to show the HTML representation or trust the notebook. <br />On GitHub, the HTML representation is unable to render, please try loading this page with nbviewer.org.</b></div><div class=\"sk-container\" hidden><div class=\"sk-item sk-dashed-wrapped\"><div class=\"sk-label-container\"><div class=\"sk-label sk-toggleable\"><input class=\"sk-toggleable__control sk-hidden--visually\" id=\"sk-estimator-id-3\" type=\"checkbox\" ><label for=\"sk-estimator-id-3\" class=\"sk-toggleable__label sk-toggleable__label-arrow\">GridSearchCV</label><div class=\"sk-toggleable__content\"><pre>GridSearchCV(cv=5, estimator=GradientBoostingClassifier(),\n",
       "             param_grid={&#x27;learning_rate&#x27;: [0.05], &#x27;max_depth&#x27;: [5],\n",
       "                         &#x27;max_features&#x27;: [&#x27;sqrt&#x27;], &#x27;min_samples_leaf&#x27;: [4],\n",
       "                         &#x27;min_samples_split&#x27;: [2], &#x27;n_estimators&#x27;: [300],\n",
       "                         &#x27;random_state&#x27;: [42]},\n",
       "             scoring=&#x27;accuracy&#x27;)</pre></div></div></div><div class=\"sk-parallel\"><div class=\"sk-parallel-item\"><div class=\"sk-item\"><div class=\"sk-label-container\"><div class=\"sk-label sk-toggleable\"><input class=\"sk-toggleable__control sk-hidden--visually\" id=\"sk-estimator-id-4\" type=\"checkbox\" ><label for=\"sk-estimator-id-4\" class=\"sk-toggleable__label sk-toggleable__label-arrow\">estimator: GradientBoostingClassifier</label><div class=\"sk-toggleable__content\"><pre>GradientBoostingClassifier()</pre></div></div></div><div class=\"sk-serial\"><div class=\"sk-item\"><div class=\"sk-estimator sk-toggleable\"><input class=\"sk-toggleable__control sk-hidden--visually\" id=\"sk-estimator-id-5\" type=\"checkbox\" ><label for=\"sk-estimator-id-5\" class=\"sk-toggleable__label sk-toggleable__label-arrow\">GradientBoostingClassifier</label><div class=\"sk-toggleable__content\"><pre>GradientBoostingClassifier()</pre></div></div></div></div></div></div></div></div></div></div>"
      ],
      "text/plain": [
       "GridSearchCV(cv=5, estimator=GradientBoostingClassifier(),\n",
       "             param_grid={'learning_rate': [0.05], 'max_depth': [5],\n",
       "                         'max_features': ['sqrt'], 'min_samples_leaf': [4],\n",
       "                         'min_samples_split': [2], 'n_estimators': [300],\n",
       "                         'random_state': [42]},\n",
       "             scoring='accuracy')"
      ]
     },
     "execution_count": 43,
     "metadata": {},
     "output_type": "execute_result"
    }
   ],
   "source": [
    "# Create the GridSearchCV object\n",
    "grid_search_gb = GridSearchCV(estimator=classifier_gb, param_grid=param_grid_gb, cv=5, scoring='accuracy')\n",
    "\n",
    "# Fit the GridSearchCV on the training set\n",
    "grid_search_gb.fit(X_train, y_train_classification)\n"
   ]
  },
  {
   "cell_type": "code",
   "execution_count": 47,
   "id": "e77e7ac7",
   "metadata": {},
   "outputs": [
    {
     "name": "stdout",
     "output_type": "stream",
     "text": [
      "Gradient Boosting Classifier - Best Parameters:\n",
      "{'learning_rate': 0.05, 'max_depth': 5, 'max_features': 'sqrt', 'min_samples_leaf': 4, 'min_samples_split': 2, 'n_estimators': 300, 'random_state': 42}\n",
      "\n",
      "Evaluation Metrics - Gradient Boosting Classifier:\n",
      "Accuracy: 0.865\n",
      "Precision: 0.7971014492753623\n",
      "Recall: 0.8088235294117647\n",
      "F1 Score: 0.8029197080291971\n",
      "ROC AUC Score: 0.9281417112299466\n",
      "\n",
      "Classification Report - Gradient Boosting Classifier:\n",
      "              precision    recall  f1-score   support\n",
      "\n",
      "           0       0.90      0.89      0.90       132\n",
      "           1       0.80      0.81      0.80        68\n",
      "\n",
      "    accuracy                           0.86       200\n",
      "   macro avg       0.85      0.85      0.85       200\n",
      "weighted avg       0.87      0.86      0.87       200\n",
      "\n"
     ]
    }
   ],
   "source": [
    "# Get the best parameters and best estimator\n",
    "best_params_gb = grid_search_gb.best_params_\n",
    "best_estimator_gb = grid_search_gb.best_estimator_\n",
    "\n",
    "# Make predictions on the test set using the best estimator\n",
    "y_pred_test_classification_gb = best_estimator_gb.predict(X_test)\n",
    "\n",
    "# Calculate predicted probabilities for ROC AUC score\n",
    "y_pred_proba_test_gb = best_estimator_gb.predict_proba(X_test)[:, 1]\n",
    "\n",
    "# Evaluate the classifier model\n",
    "accuracy_gb = accuracy_score(y_test_classification, y_pred_test_classification_gb)\n",
    "precision_gb = precision_score(y_test_classification, y_pred_test_classification_gb)\n",
    "recall_gb = recall_score(y_test_classification, y_pred_test_classification_gb)\n",
    "f1_gb = f1_score(y_test_classification, y_pred_test_classification_gb)\n",
    "roc_auc_gb = roc_auc_score(y_test_classification, y_pred_proba_test_gb)\n",
    "classification_rep_gb = classification_report(y_test_classification, y_pred_test_classification_gb)\n",
    "\n",
    "# Print the evaluation metrics and best parameters\n",
    "print(\"Gradient Boosting Classifier - Best Parameters:\")\n",
    "print(best_params_gb)\n",
    "print(\"\\nEvaluation Metrics - Gradient Boosting Classifier:\")\n",
    "print(\"Accuracy:\", accuracy_gb)\n",
    "print(\"Precision:\", precision_gb)\n",
    "print(\"Recall:\", recall_gb)\n",
    "print(\"F1 Score:\", f1_gb)\n",
    "print(\"ROC AUC Score:\", roc_auc_gb)\n",
    "print(\"\\nClassification Report - Gradient Boosting Classifier:\")\n",
    "print(classification_rep_gb)"
   ]
  },
  {
   "cell_type": "code",
   "execution_count": 63,
   "id": "bc5b604e",
   "metadata": {},
   "outputs": [],
   "source": [
    "from sklearn.metrics import accuracy_score, precision_score, recall_score, f1_score, roc_auc_score, matthews_corrcoef"
   ]
  },
  {
   "cell_type": "code",
   "execution_count": 64,
   "id": "7debf0da",
   "metadata": {},
   "outputs": [],
   "source": [
    "mcc = matthews_corrcoef(y_test_classification, y_pred_test_classification_gb)"
   ]
  },
  {
   "cell_type": "code",
   "execution_count": 65,
   "id": "0b1a8ff9",
   "metadata": {},
   "outputs": [
    {
     "name": "stdout",
     "output_type": "stream",
     "text": [
      "Matthews Correlation Coefficient: 0.7003095834071643\n"
     ]
    }
   ],
   "source": [
    "print(\"Matthews Correlation Coefficient:\", mcc)"
   ]
  },
  {
   "cell_type": "code",
   "execution_count": 49,
   "id": "affe1fc8",
   "metadata": {},
   "outputs": [],
   "source": [
    "# Create the input data as a DataFrame\n",
    "input_data = pd.DataFrame({\n",
    "    'CRIM': [0.25],\n",
    "    'ZN': [0],\n",
    "    'INDUS': [19.2],\n",
    "    'CHAS': [1],\n",
    "    'NOX': [0.3],\n",
    "    'RM': [5.9],\n",
    "    'AGE': [18.5],\n",
    "    'DIS': [3.3],\n",
    "    'RAD': [4],\n",
    "    'TAX': [357],\n",
    "    'PTRATIO': [21.0],\n",
    "    'PARK': [1],\n",
    "    'POOL': [0],\n",
    "    'CINEMA': [1]\n",
    "})\n",
    "\n",
    "\n"
   ]
  },
  {
   "cell_type": "code",
   "execution_count": 56,
   "id": "ecfd28f1",
   "metadata": {},
   "outputs": [],
   "source": [
    "# Select the subset of columns to standardize\n",
    "columns_to_standardize = list(input_data.keys())\n",
    "\n",
    "# Standardize the input data\n",
    "input_data_standardized = (input_data[columns_to_standardize] - dataset[columns_to_standardize].min()) / (dataset[columns_to_standardize].max() - dataset[columns_to_standardize].min())\n",
    "\n",
    "# Combine the standardized columns with the remaining columns\n",
    "input_data_standardized = pd.concat([input_data_standardized, input_data.drop(columns_to_standardize, axis=1)], axis=1)"
   ]
  },
  {
   "cell_type": "code",
   "execution_count": 66,
   "id": "caa5cef1",
   "metadata": {},
   "outputs": [
    {
     "name": "stdout",
     "output_type": "stream",
     "text": [
      "Predicted Price Category: Low\n"
     ]
    }
   ],
   "source": [
    "# Classify the median house price as \"high\" or \"low\" using the XGBoost classifier\n",
    "predicted_class = best_estimator_gb.predict(input_data_standardized)\n",
    "if predicted_class == 1:\n",
    "    print(\"Predicted Price Category: High\")\n",
    "else:\n",
    "    print(\"Predicted Price Category: Low\")"
   ]
  },
  {
   "cell_type": "code",
   "execution_count": 68,
   "id": "6b196f1e",
   "metadata": {},
   "outputs": [
    {
     "data": {
      "text/plain": [
       "array([[0.52781396, 0.47218604]])"
      ]
     },
     "execution_count": 68,
     "metadata": {},
     "output_type": "execute_result"
    }
   ],
   "source": [
    "best_estimator_gb.predict_proba((input_data_standardized))"
   ]
  },
  {
   "cell_type": "code",
   "execution_count": 52,
   "id": "57988eb7",
   "metadata": {},
   "outputs": [],
   "source": [
    "confusion_mat = confusion_matrix(y_test_classification, y_pred_test_classification_gb)"
   ]
  },
  {
   "cell_type": "code",
   "execution_count": 67,
   "id": "f8cce595",
   "metadata": {},
   "outputs": [
    {
     "data": {
      "text/plain": [
       "array([0])"
      ]
     },
     "execution_count": 67,
     "metadata": {},
     "output_type": "execute_result"
    }
   ],
   "source": [
    "predicted_class"
   ]
  },
  {
   "cell_type": "code",
   "execution_count": 55,
   "id": "547af6b4",
   "metadata": {},
   "outputs": [
    {
     "data": {
      "text/plain": [
       "array([[118,  14],\n",
       "       [ 13,  55]])"
      ]
     },
     "execution_count": 55,
     "metadata": {},
     "output_type": "execute_result"
    }
   ],
   "source": [
    "confusion_mat"
   ]
  },
  {
   "cell_type": "code",
   "execution_count": null,
   "id": "1bec7220",
   "metadata": {},
   "outputs": [],
   "source": []
  },
  {
   "cell_type": "code",
   "execution_count": 54,
   "id": "24066bd8",
   "metadata": {},
   "outputs": [
    {
     "data": {
      "image/png": "[encoded data removed]",
      "text/plain": [
       "<Figure size 360x360 with 2 Axes>"
      ]
     },
     "metadata": {
      "needs_background": "light"
     },
     "output_type": "display_data"
    }
   ],
   "source": [
    "%matplotlib inline\n",
    "plt.figure(figsize=(5, 5))\n",
    "sns.heatmap(confusion_mat, annot=True, fmt=\"d\")\n",
    "plt.title('Confusion matrix for {}'.format(' Testing Set'))\n",
    "plt.ylabel('Actual label')\n",
    "plt.xlabel('Predicted label')\n",
    "plt.savefig('xgb_matrix.png')"
   ]
  },
  {
   "cell_type": "code",
   "execution_count": 59,
   "id": "8de475ec",
   "metadata": {},
   "outputs": [
    {
     "data": {
      "image/png": "[encoded data removed]",
      "text/plain": [
       "<Figure size 720x432 with 1 Axes>"
      ]
     },
     "metadata": {
      "needs_background": "light"
     },
     "output_type": "display_data"
    }
   ],
   "source": [
    "# Get feature importance\n",
    "feature_importance_clf = best_estimator_gb.feature_importances_\n",
    "\n",
    "# Create a DataFrame for feature importance\n",
    "feature_importance_df_clf = pd.DataFrame({'Feature': X.columns, 'Importance': feature_importance_clf})\n",
    "\n",
    "# Sort the DataFrame by importance score\n",
    "feature_importance_df_clf = feature_importance_df_clf.sort_values('Importance', ascending=False)\n",
    "\n",
    "# Plot feature importance for classification\n",
    "plt.figure(figsize=(10, 6))\n",
    "sns.barplot(x='Importance', y='Feature', data=feature_importance_df_clf)\n",
    "plt.title('Feature Importance - XGBoost Classifier')\n",
    "plt.xlabel('Importance')\n",
    "plt.ylabel('Feature')\n",
    "plt.savefig('feature_improt_XG_classifier.png')"
   ]
  },
  {
   "cell_type": "code",
   "execution_count": 62,
   "id": "3082d6df",
   "metadata": {},
   "outputs": [
    {
     "name": "stdout",
     "output_type": "stream",
     "text": [
      "Feature Importance for XGBoost Classifier:\n",
      "CRIM: 0.14518542951189944\n",
      "ZN: 0.05778055563613904\n",
      "INDUS: 0.04765311372480068\n",
      "CHAS: 0.00691440519919817\n",
      "NOX: 0.17158888441586315\n",
      "RM: 0.20680655604960982\n",
      "AGE: 0.03091993722667508\n",
      "DIS: 0.030819441585595454\n",
      "RAD: 0.05802144722545343\n",
      "TAX: 0.05896287073870581\n",
      "PTRATIO: 0.08615268282394074\n",
      "PARK: 0.05402610223561011\n",
      "POOL: 0.03779526225980015\n",
      "CINEMA: 0.0073733113667089215\n"
     ]
    }
   ],
   "source": [
    "# Get feature importance\n",
    "feature_importance = best_estimator_gb.feature_importances_\n",
    "\n",
    "# Print feature importance\n",
    "print(\"Feature Importance for XGBoost Classifier:\")\n",
    "for feature, importance in zip(X.columns, feature_importance):\n",
    "    print(f\"{feature}: {importance}\")"
   ]
  },
  {
   "cell_type": "code",
   "execution_count": null,
   "id": "fd6d4458",
   "metadata": {},
   "outputs": [],
   "source": []
  },
  {
   "cell_type": "code",
   "execution_count": null,
   "id": "4c8f571e",
   "metadata": {},
   "outputs": [],
   "source": []
  },
  {
   "cell_type": "code",
   "execution_count": 323,
   "id": "9118b5f9",
   "metadata": {},
   "outputs": [],
   "source": [
    "from sklearn.ensemble import GradientBoostingRegressor\n",
    "from sklearn.model_selection import GridSearchCV\n",
    "from sklearn.metrics import mean_squared_error, mean_absolute_error, r2_score\n",
    "\n",
    "# Create the Gradient Boosting Regressor\n",
    "regressor_gb = GradientBoostingRegressor()\n",
    "\n",
    "# Define the parameter grid for GridSearchCV\n",
    "param_grid_gb = {\n",
    "    'n_estimators': [100, 200, 300],\n",
    "    'learning_rate': [0.1, 0.05, 0.01],\n",
    "    'max_depth': [3, 4, 5],\n",
    "    'min_samples_split': [2, 5, 10],\n",
    "    'min_samples_leaf': [1, 2, 4],\n",
    "    'max_features': ['sqrt', 'log2'],\n",
    "    'random_state': [42]\n",
    "}"
   ]
  },
  {
   "cell_type": "code",
   "execution_count": 325,
   "id": "8b5b34e1",
   "metadata": {},
   "outputs": [
    {
     "data": {
      "text/html": [
       "<style>#sk-container-id-12 {color: black;background-color: white;}#sk-container-id-12 pre{padding: 0;}#sk-container-id-12 div.sk-toggleable {background-color: white;}#sk-container-id-12 label.sk-toggleable__label {cursor: pointer;display: block;width: 100%;margin-bottom: 0;padding: 0.3em;box-sizing: border-box;text-align: center;}#sk-container-id-12 label.sk-toggleable__label-arrow:before {content: \"▸\";float: left;margin-right: 0.25em;color: #696969;}#sk-container-id-12 label.sk-toggleable__label-arrow:hover:before {color: black;}#sk-container-id-12 div.sk-estimator:hover label.sk-toggleable__label-arrow:before {color: black;}#sk-container-id-12 div.sk-toggleable__content {max-height: 0;max-width: 0;overflow: hidden;text-align: left;background-color: #f0f8ff;}#sk-container-id-12 div.sk-toggleable__content pre {margin: 0.2em;color: black;border-radius: 0.25em;background-color: #f0f8ff;}#sk-container-id-12 input.sk-toggleable__control:checked~div.sk-toggleable__content {max-height: 200px;max-width: 100%;overflow: auto;}#sk-container-id-12 input.sk-toggleable__control:checked~label.sk-toggleable__label-arrow:before {content: \"▾\";}#sk-container-id-12 div.sk-estimator input.sk-toggleable__control:checked~label.sk-toggleable__label {background-color: #d4ebff;}#sk-container-id-12 div.sk-label input.sk-toggleable__control:checked~label.sk-toggleable__label {background-color: #d4ebff;}#sk-container-id-12 input.sk-hidden--visually {border: 0;clip: rect(1px 1px 1px 1px);clip: rect(1px, 1px, 1px, 1px);height: 1px;margin: -1px;overflow: hidden;padding: 0;position: absolute;width: 1px;}#sk-container-id-12 div.sk-estimator {font-family: monospace;background-color: #f0f8ff;border: 1px dotted black;border-radius: 0.25em;box-sizing: border-box;margin-bottom: 0.5em;}#sk-container-id-12 div.sk-estimator:hover {background-color: #d4ebff;}#sk-container-id-12 div.sk-parallel-item::after {content: \"\";width: 100%;border-bottom: 1px solid gray;flex-grow: 1;}#sk-container-id-12 div.sk-label:hover label.sk-toggleable__label {background-color: #d4ebff;}#sk-container-id-12 div.sk-serial::before {content: \"\";position: absolute;border-left: 1px solid gray;box-sizing: border-box;top: 0;bottom: 0;left: 50%;z-index: 0;}#sk-container-id-12 div.sk-serial {display: flex;flex-direction: column;align-items: center;background-color: white;padding-right: 0.2em;padding-left: 0.2em;position: relative;}#sk-container-id-12 div.sk-item {position: relative;z-index: 1;}#sk-container-id-12 div.sk-parallel {display: flex;align-items: stretch;justify-content: center;background-color: white;position: relative;}#sk-container-id-12 div.sk-item::before, #sk-container-id-12 div.sk-parallel-item::before {content: \"\";position: absolute;border-left: 1px solid gray;box-sizing: border-box;top: 0;bottom: 0;left: 50%;z-index: -1;}#sk-container-id-12 div.sk-parallel-item {display: flex;flex-direction: column;z-index: 1;position: relative;background-color: white;}#sk-container-id-12 div.sk-parallel-item:first-child::after {align-self: flex-end;width: 50%;}#sk-container-id-12 div.sk-parallel-item:last-child::after {align-self: flex-start;width: 50%;}#sk-container-id-12 div.sk-parallel-item:only-child::after {width: 0;}#sk-container-id-12 div.sk-dashed-wrapped {border: 1px dashed gray;margin: 0 0.4em 0.5em 0.4em;box-sizing: border-box;padding-bottom: 0.4em;background-color: white;}#sk-container-id-12 div.sk-label label {font-family: monospace;font-weight: bold;display: inline-block;line-height: 1.2em;}#sk-container-id-12 div.sk-label-container {text-align: center;}#sk-container-id-12 div.sk-container {/* jupyter's `normalize.less` sets `[hidden] { display: none; }` but bootstrap.min.css set `[hidden] { display: none !important; }` so we also need the `!important` here to be able to override the default hidden behavior on the sphinx rendered scikit-learn.org. See: https://github.com/scikit-learn/scikit-learn/issues/21755 */display: inline-block !important;position: relative;}#sk-container-id-12 div.sk-text-repr-fallback {display: none;}</style><div id=\"sk-container-id-12\" class=\"sk-top-container\"><div class=\"sk-text-repr-fallback\"><pre>GridSearchCV(cv=5, estimator=GradientBoostingRegressor(),\n",
       "             param_grid={&#x27;learning_rate&#x27;: [0.1, 0.05, 0.01],\n",
       "                         &#x27;max_depth&#x27;: [3, 4, 5],\n",
       "                         &#x27;max_features&#x27;: [&#x27;sqrt&#x27;, &#x27;log2&#x27;],\n",
       "                         &#x27;min_samples_leaf&#x27;: [1, 2, 4],\n",
       "                         &#x27;min_samples_split&#x27;: [2, 5, 10],\n",
       "                         &#x27;n_estimators&#x27;: [100, 200, 300],\n",
       "                         &#x27;random_state&#x27;: [42]},\n",
       "             scoring=&#x27;neg_mean_squared_error&#x27;)</pre><b>In a Jupyter environment, please rerun this cell to show the HTML representation or trust the notebook. <br />On GitHub, the HTML representation is unable to render, please try loading this page with nbviewer.org.</b></div><div class=\"sk-container\" hidden><div class=\"sk-item sk-dashed-wrapped\"><div class=\"sk-label-container\"><div class=\"sk-label sk-toggleable\"><input class=\"sk-toggleable__control sk-hidden--visually\" id=\"sk-estimator-id-14\" type=\"checkbox\" ><label for=\"sk-estimator-id-14\" class=\"sk-toggleable__label sk-toggleable__label-arrow\">GridSearchCV</label><div class=\"sk-toggleable__content\"><pre>GridSearchCV(cv=5, estimator=GradientBoostingRegressor(),\n",
       "             param_grid={&#x27;learning_rate&#x27;: [0.1, 0.05, 0.01],\n",
       "                         &#x27;max_depth&#x27;: [3, 4, 5],\n",
       "                         &#x27;max_features&#x27;: [&#x27;sqrt&#x27;, &#x27;log2&#x27;],\n",
       "                         &#x27;min_samples_leaf&#x27;: [1, 2, 4],\n",
       "                         &#x27;min_samples_split&#x27;: [2, 5, 10],\n",
       "                         &#x27;n_estimators&#x27;: [100, 200, 300],\n",
       "                         &#x27;random_state&#x27;: [42]},\n",
       "             scoring=&#x27;neg_mean_squared_error&#x27;)</pre></div></div></div><div class=\"sk-parallel\"><div class=\"sk-parallel-item\"><div class=\"sk-item\"><div class=\"sk-label-container\"><div class=\"sk-label sk-toggleable\"><input class=\"sk-toggleable__control sk-hidden--visually\" id=\"sk-estimator-id-15\" type=\"checkbox\" ><label for=\"sk-estimator-id-15\" class=\"sk-toggleable__label sk-toggleable__label-arrow\">estimator: GradientBoostingRegressor</label><div class=\"sk-toggleable__content\"><pre>GradientBoostingRegressor()</pre></div></div></div><div class=\"sk-serial\"><div class=\"sk-item\"><div class=\"sk-estimator sk-toggleable\"><input class=\"sk-toggleable__control sk-hidden--visually\" id=\"sk-estimator-id-16\" type=\"checkbox\" ><label for=\"sk-estimator-id-16\" class=\"sk-toggleable__label sk-toggleable__label-arrow\">GradientBoostingRegressor</label><div class=\"sk-toggleable__content\"><pre>GradientBoostingRegressor()</pre></div></div></div></div></div></div></div></div></div></div>"
      ],
      "text/plain": [
       "GridSearchCV(cv=5, estimator=GradientBoostingRegressor(),\n",
       "             param_grid={'learning_rate': [0.1, 0.05, 0.01],\n",
       "                         'max_depth': [3, 4, 5],\n",
       "                         'max_features': ['sqrt', 'log2'],\n",
       "                         'min_samples_leaf': [1, 2, 4],\n",
       "                         'min_samples_split': [2, 5, 10],\n",
       "                         'n_estimators': [100, 200, 300],\n",
       "                         'random_state': [42]},\n",
       "             scoring='neg_mean_squared_error')"
      ]
     },
     "execution_count": 325,
     "metadata": {},
     "output_type": "execute_result"
    }
   ],
   "source": [
    "# Create the GridSearchCV object\n",
    "grid_search_gb = GridSearchCV(estimator=regressor_gb, param_grid=param_grid_gb, cv=5, scoring='neg_mean_squared_error')\n",
    "\n",
    "# Fit the GridSearchCV on the training set\n",
    "grid_search_gb.fit(X_train, y_train)"
   ]
  },
  {
   "cell_type": "code",
   "execution_count": 330,
   "id": "b9438d41",
   "metadata": {},
   "outputs": [
    {
     "name": "stdout",
     "output_type": "stream",
     "text": [
      "Gradient Boosting Regressor - Best Parameters:\n",
      "{'learning_rate': 0.1, 'max_depth': 4, 'max_features': 'sqrt', 'min_samples_leaf': 1, 'min_samples_split': 10, 'n_estimators': 100, 'random_state': 42}\n",
      "\n",
      "Evaluation Metrics - Gradient Boosting Regressor:\n",
      "Mean Squared Error (MSE): 0.1364075126829236\n",
      "Mean Absolute Error (MAE): 0.28643284579246936\n",
      "R-squared (R2) Score: 0.8775292324769126\n"
     ]
    }
   ],
   "source": [
    "# Get the best parameters and best estimator\n",
    "best_params_gb = grid_search_gb.best_params_\n",
    "best_estimator_gb = grid_search_gb.best_estimator_\n",
    "\n",
    "# Make predictions on the test set using the best estimator\n",
    "y_pred_test_regression_gb = best_estimator_gb.predict(X_test)\n",
    "\n",
    "# Evaluate the regressor model\n",
    "mse_gb = mean_squared_error(y_test, y_pred_test_regression_gb)\n",
    "mae_gb = mean_absolute_error(y_test, y_pred_test_regression_gb)\n",
    "r2_gb = r2_score(y_test, y_pred_test_regression_gb)\n",
    "\n",
    "# Print the evaluation metrics and best parameters\n",
    "print(\"Gradient Boosting Regressor - Best Parameters:\")\n",
    "print(best_params_gb)\n",
    "print(\"\\nEvaluation Metrics - Gradient Boosting Regressor:\")\n",
    "print(\"Mean Squared Error (MSE):\", mse_gb)\n",
    "print(\"Mean Absolute Error (MAE):\", mae_gb)\n",
    "print(\"R-squared (R2) Score:\", r2_gb)"
   ]
  },
  {
   "cell_type": "code",
   "execution_count": 333,
   "id": "bae7dc07",
   "metadata": {},
   "outputs": [],
   "source": [
    "# XGB"
   ]
  },
  {
   "cell_type": "code",
   "execution_count": null,
   "id": "2799b6c4",
   "metadata": {},
   "outputs": [],
   "source": []
  },
  {
   "cell_type": "code",
   "execution_count": null,
   "id": "31fe445d",
   "metadata": {},
   "outputs": [],
   "source": []
  },
  {
   "cell_type": "code",
   "execution_count": null,
   "id": "05b5f619",
   "metadata": {},
   "outputs": [],
   "source": []
  },
  {
   "cell_type": "code",
   "execution_count": null,
   "id": "178372e8",
   "metadata": {},
   "outputs": [],
   "source": []
  },
  {
   "cell_type": "code",
   "execution_count": null,
   "id": "93aba5f1",
   "metadata": {},
   "outputs": [],
   "source": []
  },
  {
   "cell_type": "code",
   "execution_count": null,
   "id": "49b6d946",
   "metadata": {},
   "outputs": [],
   "source": []
  },
  {
   "cell_type": "code",
   "execution_count": null,
   "id": "b92d7476",
   "metadata": {},
   "outputs": [],
   "source": [
    "# from xgboost import XGBRegressor\n",
    "# from sklearn.model_selection import GridSearchCV\n",
    "# from sklearn.metrics import mean_squared_error, mean_absolute_error, r2_score\n",
    "\n",
    "# # Create the XGBoost Regressor\n",
    "# regressor_xgb = XGBRegressor()\n",
    "\n",
    "# # Define the parameter grid for GridSearchCV\n",
    "# param_grid_xgb = {\n",
    "#     'n_estimators': [100, 200, 300],\n",
    "#     'learning_rate': [0.1, 0.05, 0.01],\n",
    "#     'max_depth': [3, 4, 5],\n",
    "#     'min_child_weight': [1, 2, 4],\n",
    "#     'subsample': [0.6, 0.8, 1.0],\n",
    "#     'colsample_bytree': [0.6, 0.8, 1.0],\n",
    "#     'gamma': [0, 0.1, 0.2],\n",
    "#     'random_state': [42]\n",
    "# }\n"
   ]
  },
  {
   "cell_type": "code",
   "execution_count": null,
   "id": "762af00b",
   "metadata": {},
   "outputs": [],
   "source": [
    "# # Create the GridSearchCV object\n",
    "# grid_search_xgb = GridSearchCV(estimator=regressor_xgb, param_grid=param_grid_xgb, cv=5, scoring='neg_mean_squared_error')\n",
    "\n",
    "# # Fit the GridSearchCV on the training set\n",
    "# grid_search_xgb.fit(X_train, y_train)\n",
    "\n",
    "# # Get the best parameters and best estimator\n",
    "# best_params_xgb = grid_search_xgb.best_params_\n",
    "# best_estimator_xgb = grid_search_xgb.best_estimator_\n",
    "\n",
    "# # Make predictions on the test set using the best estimator\n",
    "# y_pred_test_regression_xgb = best_estimator_xgb.predict(X_test)\n",
    "\n",
    "# # Evaluate the regressor model\n",
    "# mse_xgb = mean_squared_error(y_test, y_pred_test_regression_xgb)\n",
    "# mae_xgb = mean_absolute_error(y_test, y_pred_test_regression_xgb)\n",
    "# r2_xgb = r2_score(y_test, y_pred_test_regression_xgb)\n",
    "\n",
    "# # Print the evaluation metrics and best parameters\n",
    "# print(\"XGBoost Regressor - Best Parameters:\")\n",
    "# print(best_params_xgb)\n",
    "# print(\"\\nEvaluation Metrics - XGBoost Regressor:\")\n",
    "# print(\"Mean Squared Error (MSE):\", mse_xgb)\n",
    "# print(\"Mean Absolute Error (MAE):\", mae_xgb)\n",
    "# print(\"R-squared (R2) Score:\", r2_xgb)"
   ]
  },
  {
   "cell_type": "code",
   "execution_count": null,
   "id": "d8b27732",
   "metadata": {},
   "outputs": [],
   "source": []
  },
  {
   "cell_type": "code",
   "execution_count": null,
   "id": "df72205b",
   "metadata": {},
   "outputs": [],
   "source": []
  }
 ],
 "metadata": {
  "kernelspec": {
   "display_name": "Python 3 (ipykernel)",
   "language": "python",
   "name": "python3"
  },
  "language_info": {
   "codemirror_mode": {
    "name": "ipython",
    "version": 3
   },
   "file_extension": ".py",
   "mimetype": "text/x-python",
   "name": "python",
   "nbconvert_exporter": "python",
   "pygments_lexer": "ipython3",
   "version": "3.8.13"
  }
 },
 "nbformat": 4,
 "nbformat_minor": 5
}
